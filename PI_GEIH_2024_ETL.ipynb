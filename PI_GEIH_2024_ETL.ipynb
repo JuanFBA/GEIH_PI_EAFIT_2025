{
 "cells": [
  {
   "cell_type": "markdown",
   "id": "60787cfa",
   "metadata": {},
   "source": [
    "# Proyecto GEIH 2024 - ETL en PySpark"
   ]
  },
  {
   "cell_type": "code",
   "execution_count": 1,
   "id": "d00afc2b",
   "metadata": {},
   "outputs": [
    {
     "name": "stdout",
     "output_type": "stream",
     "text": [
      "Starting Spark application\n"
     ]
    },
    {
     "data": {
      "text/html": [
       "<table>\n",
       "<tr><th>ID</th><th>YARN Application ID</th><th>Kind</th><th>State</th><th>Spark UI</th><th>Driver log</th><th>User</th><th>Current session?</th></tr><tr><td>2</td><td>application_1749523038563_0003</td><td>pyspark</td><td>idle</td><td><a target=\"_blank\" href=\"http://ip-172-31-28-10.ec2.internal:20888/proxy/application_1749523038563_0003/\">Link</a></td><td><a target=\"_blank\" href=\"http://ip-172-31-20-52.ec2.internal:8042/node/containerlogs/container_1749523038563_0003_01_000001/livy\">Link</a></td><td>None</td><td>✔</td></tr></table>"
      ],
      "text/plain": [
       "<IPython.core.display.HTML object>"
      ]
     },
     "metadata": {},
     "output_type": "display_data"
    },
    {
     "data": {
      "application/vnd.jupyter.widget-view+json": {
       "model_id": "531cd65727b04e39b9cdbacaeff8b726",
       "version_major": 2,
       "version_minor": 0
      },
      "text/plain": [
       "FloatProgress(value=0.0, bar_style='info', description='Progress:', layout=Layout(height='25px', width='50%'),…"
      ]
     },
     "metadata": {},
     "output_type": "display_data"
    },
    {
     "name": "stdout",
     "output_type": "stream",
     "text": [
      "SparkSession available as 'spark'.\n"
     ]
    },
    {
     "data": {
      "application/vnd.jupyter.widget-view+json": {
       "model_id": "eb5072508c744f709c96499dc373e76b",
       "version_major": 2,
       "version_minor": 0
      },
      "text/plain": [
       "FloatProgress(value=0.0, bar_style='info', description='Progress:', layout=Layout(height='25px', width='50%'),…"
      ]
     },
     "metadata": {},
     "output_type": "display_data"
    }
   ],
   "source": [
    "from pyspark.sql import SparkSession\n",
    "from pyspark.sql.functions import col\n",
    "\n",
    "spark = SparkSession.builder.appName(\"GEIH_ETL_2024\").getOrCreate()"
   ]
  },
  {
   "cell_type": "markdown",
   "id": "8ea2f392",
   "metadata": {},
   "source": [
    "## Funciones para unión segura y procesamiento mensual"
   ]
  },
  {
   "cell_type": "code",
   "execution_count": 2,
   "id": "d82146ba",
   "metadata": {},
   "outputs": [
    {
     "data": {
      "application/vnd.jupyter.widget-view+json": {
       "model_id": "cc58d22cc63e489ba92d02f53cb58640",
       "version_major": 2,
       "version_minor": 0
      },
      "text/plain": [
       "FloatProgress(value=0.0, bar_style='info', description='Progress:', layout=Layout(height='25px', width='50%'),…"
      ]
     },
     "metadata": {},
     "output_type": "display_data"
    }
   ],
   "source": [
    "def safe_join(df1, df2, claves, prefix):\n",
    "    renamed = df2.select([col(c).alias(f\"{prefix.lower()}_{c.lower()}\") if c not in claves else col(c) for c in df2.columns])\n",
    "    return df1.join(renamed, on=claves, how=\"left\")\n",
    "\n",
    "def procesar_mes(mes, modulos):\n",
    "    ruta_mes = f\"s3://geih-datalake-2024/raw/{mes}/\"\n",
    "    datos = {}\n",
    "    for modulo, claves in modulos.items():\n",
    "        try:\n",
    "            df = spark.read.option(\"header\", True).option(\"sep\", \";\").option(\"encoding\", \"latin1\").csv(ruta_mes + f\"{modulo}.CSV\")\n",
    "            datos[modulo] = df\n",
    "            print(f\"[{mes}] Módulo {modulo} cargado.\")\n",
    "        except Exception as e:\n",
    "            print(f\"[{mes}] Error módulo {modulo}: {e}\")\n",
    "\n",
    "    df_base = datos[\"10\"]\n",
    "    for cod in [\"50\", \"60\", \"70\", \"80\", \"90\", \"94\"]:\n",
    "        if cod in datos:\n",
    "            df_base = safe_join(df_base, datos[cod], [\"DIRECTORIO\", \"SECUENCIA_P\", \"ORDEN\"], cod)\n",
    "    df_base = safe_join(df_base, datos[\"01\"], [\"DIRECTORIO\", \"SECUENCIA_P\"], \"01\")\n",
    "    df_base = df_base.select([col(c).alias(c.lower().strip().replace(\" \", \"_\")) for c in df_base.columns])\n",
    "    df_base = df_base.dropna(subset=[\"directorio\", \"secuencia_p\", \"orden\"])\n",
    "    ruta_salida = f\"s3://geih-datalake-2024/trusted/{mes}/\"\n",
    "    df_base.write.mode(\"overwrite\").parquet(ruta_salida)\n",
    "    print(f\"Datos de {mes} guardados en zona trusted.\")"
   ]
  },
  {
   "cell_type": "markdown",
   "id": "7ef17d23",
   "metadata": {},
   "source": [
    "## Ejecución del procesamiento para todos los meses"
   ]
  },
  {
   "cell_type": "code",
   "execution_count": 3,
   "id": "b8075f84",
   "metadata": {},
   "outputs": [
    {
     "data": {
      "application/vnd.jupyter.widget-view+json": {
       "model_id": "6c9cf7008625471990334356bcf67cc5",
       "version_major": 2,
       "version_minor": 0
      },
      "text/plain": [
       "FloatProgress(value=0.0, bar_style='info', description='Progress:', layout=Layout(height='25px', width='50%'),…"
      ]
     },
     "metadata": {},
     "output_type": "display_data"
    },
    {
     "name": "stdout",
     "output_type": "stream",
     "text": [
      "[enero] M?dulo 01 cargado.\n",
      "[enero] M?dulo 10 cargado.\n",
      "[enero] M?dulo 50 cargado.\n",
      "[enero] M?dulo 60 cargado.\n",
      "[enero] M?dulo 70 cargado.\n",
      "[enero] M?dulo 80 cargado.\n",
      "[enero] M?dulo 90 cargado.\n",
      "[enero] M?dulo 94 cargado.\n",
      "Datos de enero guardados en zona trusted.\n",
      "[febrero] M?dulo 01 cargado.\n",
      "[febrero] M?dulo 10 cargado.\n",
      "[febrero] M?dulo 50 cargado.\n",
      "[febrero] M?dulo 60 cargado.\n",
      "[febrero] M?dulo 70 cargado.\n",
      "[febrero] M?dulo 80 cargado.\n",
      "[febrero] M?dulo 90 cargado.\n",
      "[febrero] M?dulo 94 cargado.\n",
      "Datos de febrero guardados en zona trusted.\n",
      "[marzo] M?dulo 01 cargado.\n",
      "[marzo] M?dulo 10 cargado.\n",
      "[marzo] M?dulo 50 cargado.\n",
      "[marzo] M?dulo 60 cargado.\n",
      "[marzo] M?dulo 70 cargado.\n",
      "[marzo] M?dulo 80 cargado.\n",
      "[marzo] M?dulo 90 cargado.\n",
      "[marzo] M?dulo 94 cargado.\n",
      "Datos de marzo guardados en zona trusted.\n",
      "[abril] M?dulo 01 cargado.\n",
      "[abril] M?dulo 10 cargado.\n",
      "[abril] M?dulo 50 cargado.\n",
      "[abril] M?dulo 60 cargado.\n",
      "[abril] M?dulo 70 cargado.\n",
      "[abril] M?dulo 80 cargado.\n",
      "[abril] M?dulo 90 cargado.\n",
      "[abril] M?dulo 94 cargado.\n",
      "Datos de abril guardados en zona trusted.\n",
      "[mayo] M?dulo 01 cargado.\n",
      "[mayo] M?dulo 10 cargado.\n",
      "[mayo] M?dulo 50 cargado.\n",
      "[mayo] M?dulo 60 cargado.\n",
      "[mayo] M?dulo 70 cargado.\n",
      "[mayo] M?dulo 80 cargado.\n",
      "[mayo] M?dulo 90 cargado.\n",
      "[mayo] M?dulo 94 cargado.\n",
      "Datos de mayo guardados en zona trusted.\n",
      "[junio] M?dulo 01 cargado.\n",
      "[junio] M?dulo 10 cargado.\n",
      "[junio] M?dulo 50 cargado.\n",
      "[junio] M?dulo 60 cargado.\n",
      "[junio] M?dulo 70 cargado.\n",
      "[junio] M?dulo 80 cargado.\n",
      "[junio] M?dulo 90 cargado.\n",
      "[junio] M?dulo 94 cargado.\n",
      "Datos de junio guardados en zona trusted.\n",
      "[julio] M?dulo 01 cargado.\n",
      "[julio] M?dulo 10 cargado.\n",
      "[julio] M?dulo 50 cargado.\n",
      "[julio] M?dulo 60 cargado.\n",
      "[julio] M?dulo 70 cargado.\n",
      "[julio] M?dulo 80 cargado.\n",
      "[julio] M?dulo 90 cargado.\n",
      "[julio] M?dulo 94 cargado.\n",
      "Datos de julio guardados en zona trusted.\n",
      "[agosto] M?dulo 01 cargado.\n",
      "[agosto] M?dulo 10 cargado.\n",
      "[agosto] M?dulo 50 cargado.\n",
      "[agosto] M?dulo 60 cargado.\n",
      "[agosto] M?dulo 70 cargado.\n",
      "[agosto] M?dulo 80 cargado.\n",
      "[agosto] M?dulo 90 cargado.\n",
      "[agosto] M?dulo 94 cargado.\n",
      "Datos de agosto guardados en zona trusted.\n",
      "[septiembre] M?dulo 01 cargado.\n",
      "[septiembre] M?dulo 10 cargado.\n",
      "[septiembre] M?dulo 50 cargado.\n",
      "[septiembre] M?dulo 60 cargado.\n",
      "[septiembre] M?dulo 70 cargado.\n",
      "[septiembre] M?dulo 80 cargado.\n",
      "[septiembre] M?dulo 90 cargado.\n",
      "[septiembre] M?dulo 94 cargado.\n",
      "Datos de septiembre guardados en zona trusted.\n",
      "[octubre] M?dulo 01 cargado.\n",
      "[octubre] M?dulo 10 cargado.\n",
      "[octubre] M?dulo 50 cargado.\n",
      "[octubre] M?dulo 60 cargado.\n",
      "[octubre] M?dulo 70 cargado.\n",
      "[octubre] M?dulo 80 cargado.\n",
      "[octubre] M?dulo 90 cargado.\n",
      "[octubre] M?dulo 94 cargado.\n",
      "Datos de octubre guardados en zona trusted.\n",
      "[noviembre] M?dulo 01 cargado.\n",
      "[noviembre] M?dulo 10 cargado.\n",
      "[noviembre] M?dulo 50 cargado.\n",
      "[noviembre] M?dulo 60 cargado.\n",
      "[noviembre] M?dulo 70 cargado.\n",
      "[noviembre] M?dulo 80 cargado.\n",
      "[noviembre] M?dulo 90 cargado.\n",
      "[noviembre] M?dulo 94 cargado.\n",
      "Datos de noviembre guardados en zona trusted.\n",
      "[diciembre] M?dulo 01 cargado.\n",
      "[diciembre] M?dulo 10 cargado.\n",
      "[diciembre] M?dulo 50 cargado.\n",
      "[diciembre] M?dulo 60 cargado.\n",
      "[diciembre] M?dulo 70 cargado.\n",
      "[diciembre] M?dulo 80 cargado.\n",
      "[diciembre] M?dulo 90 cargado.\n",
      "[diciembre] M?dulo 94 cargado.\n",
      "Datos de diciembre guardados en zona trusted."
     ]
    }
   ],
   "source": [
    "modulos = {\n",
    "    \"01\": [\"DIRECTORIO\", \"SECUENCIA_P\"],\n",
    "    \"10\": [\"DIRECTORIO\", \"SECUENCIA_P\", \"ORDEN\"],\n",
    "    \"50\": [\"DIRECTORIO\", \"SECUENCIA_P\", \"ORDEN\"],\n",
    "    \"60\": [\"DIRECTORIO\", \"SECUENCIA_P\", \"ORDEN\"],\n",
    "    \"70\": [\"DIRECTORIO\", \"SECUENCIA_P\", \"ORDEN\"],\n",
    "    \"80\": [\"DIRECTORIO\", \"SECUENCIA_P\", \"ORDEN\"],\n",
    "    \"90\": [\"DIRECTORIO\", \"SECUENCIA_P\", \"ORDEN\"],\n",
    "    \"94\": [\"DIRECTORIO\", \"SECUENCIA_P\", \"ORDEN\"]\n",
    "}\n",
    "\n",
    "meses = [\"enero\", \"febrero\", \"marzo\", \"abril\", \"mayo\", \"junio\",\n",
    "         \"julio\", \"agosto\", \"septiembre\", \"octubre\", \"noviembre\", \"diciembre\"]\n",
    "\n",
    "for mes in meses:\n",
    "    procesar_mes(mes, modulos)"
   ]
  },
  {
   "cell_type": "markdown",
   "id": "82d935de",
   "metadata": {},
   "source": [
    "## Consolidación de todos los meses"
   ]
  },
  {
   "cell_type": "code",
   "execution_count": 4,
   "id": "4efec2a3",
   "metadata": {},
   "outputs": [
    {
     "data": {
      "application/vnd.jupyter.widget-view+json": {
       "model_id": "6c610b118b904821ac866a6909141971",
       "version_major": 2,
       "version_minor": 0
      },
      "text/plain": [
       "FloatProgress(value=0.0, bar_style='info', description='Progress:', layout=Layout(height='25px', width='50%'),…"
      ]
     },
     "metadata": {},
     "output_type": "display_data"
    },
    {
     "name": "stdout",
     "output_type": "stream",
     "text": [
      "root\n",
      " |-- directorio: string (nullable = true)\n",
      " |-- secuencia_p: string (nullable = true)\n",
      " |-- orden: string (nullable = true)\n",
      " |-- periodo: string (nullable = true)\n",
      " |-- mes: string (nullable = true)\n",
      " |-- per: string (nullable = true)\n",
      " |-- hogar: string (nullable = true)\n",
      " |-- regis: string (nullable = true)\n",
      " |-- area: string (nullable = true)\n",
      " |-- clase: string (nullable = true)\n",
      " |-- fex_c18: string (nullable = true)\n",
      " |-- dpto: string (nullable = true)\n",
      " |-- pt: string (nullable = true)\n",
      " |-- p6016: string (nullable = true)\n",
      " |-- p3271: string (nullable = true)\n",
      " |-- p6040: string (nullable = true)\n",
      " |-- p6030s1: string (nullable = true)\n",
      " |-- p6030s3: string (nullable = true)\n",
      " |-- p6050: string (nullable = true)\n",
      " |-- p6083: string (nullable = true)\n",
      " |-- p6083s1: string (nullable = true)\n",
      " |-- p6081: string (nullable = true)\n",
      " |-- p6081s1: string (nullable = true)\n",
      " |-- p2057: string (nullable = true)\n",
      " |-- p2059: string (nullable = true)\n",
      " |-- p2061: string (nullable = true)\n",
      " |-- p6080: string (nullable = true)\n",
      " |-- p6080s1: string (nullable = true)\n",
      " |-- p6080s1a1: string (nullable = true)\n",
      " |-- p6070: string (nullable = true)\n",
      " |-- p6071: string (nullable = true)\n",
      " |-- p6071s1: string (nullable = true)\n",
      " |-- p3147s1: string (nullable = true)\n",
      " |-- p3147s2: string (nullable = true)\n",
      " |-- p3147s3: string (nullable = true)\n",
      " |-- p3147s4: string (nullable = true)\n",
      " |-- p3147s5: string (nullable = true)\n",
      " |-- p3147s6: string (nullable = true)\n",
      " |-- p3147s7: string (nullable = true)\n",
      " |-- p3147s8: string (nullable = true)\n",
      " |-- p3147s9: string (nullable = true)\n",
      " |-- p3147s10: string (nullable = true)\n",
      " |-- p3147s11: string (nullable = true)\n",
      " |-- p3147s10a1: string (nullable = true)\n",
      " |-- p6090: string (nullable = true)\n",
      " |-- p6100: string (nullable = true)\n",
      " |-- p6110: string (nullable = true)\n",
      " |-- p6120: string (nullable = true)\n",
      " |-- p1906s1: string (nullable = true)\n",
      " |-- p1906s2: string (nullable = true)\n",
      " |-- p1906s3: string (nullable = true)\n",
      " |-- p1906s4: string (nullable = true)\n",
      " |-- p1906s5: string (nullable = true)\n",
      " |-- p1906s6: string (nullable = true)\n",
      " |-- p1906s7: string (nullable = true)\n",
      " |-- p1906s8: string (nullable = true)\n",
      " |-- p6160: string (nullable = true)\n",
      " |-- p6170: string (nullable = true)\n",
      " |-- p3041: string (nullable = true)\n",
      " |-- p3042: string (nullable = true)\n",
      " |-- p3042s1: string (nullable = true)\n",
      " |-- p3042s2: string (nullable = true)\n",
      " |-- p3043: string (nullable = true)\n",
      " |-- p3043s1: string (nullable = true)\n",
      " |-- p3038: string (nullable = true)\n",
      " |-- p3039: string (nullable = true)\n",
      " |-- pob_may18: string (nullable = true)\n",
      " |-- 50_periodo: string (nullable = true)\n",
      " |-- 50_mes: string (nullable = true)\n",
      " |-- 50_per: string (nullable = true)\n",
      " |-- 50_hogar: string (nullable = true)\n",
      " |-- 50_regis: string (nullable = true)\n",
      " |-- 50_area: string (nullable = true)\n",
      " |-- 50_clase: string (nullable = true)\n",
      " |-- 50_fex_c18: string (nullable = true)\n",
      " |-- 50_dpto: string (nullable = true)\n",
      " |-- 50_ft: string (nullable = true)\n",
      " |-- 50_fft: string (nullable = true)\n",
      " |-- 50_pet: string (nullable = true)\n",
      " |-- 50_p6240: string (nullable = true)\n",
      " |-- 50_p6240s1: string (nullable = true)\n",
      " |-- 50_p6240s2: string (nullable = true)\n",
      " |-- 50_p6250: string (nullable = true)\n",
      " |-- 50_p6260: string (nullable = true)\n",
      " |-- 50_p6260s1: string (nullable = true)\n",
      " |-- 50_p6260s1a1: string (nullable = true)\n",
      " |-- 50_p6260s2: string (nullable = true)\n",
      " |-- 50_p6270: string (nullable = true)\n",
      " |-- 50_p6280: string (nullable = true)\n",
      " |-- 50_p6290: string (nullable = true)\n",
      " |-- 50_p3362s1: string (nullable = true)\n",
      " |-- 50_p3362s2: string (nullable = true)\n",
      " |-- 50_p3362s3: string (nullable = true)\n",
      " |-- 50_p3362s4: string (nullable = true)\n",
      " |-- 50_p3362s5: string (nullable = true)\n",
      " |-- 50_p3362s6: string (nullable = true)\n",
      " |-- 50_p3362s7: string (nullable = true)\n",
      " |-- 50_p3362s8: string (nullable = true)\n",
      " |-- 50_p3362s7a1: string (nullable = true)\n",
      " |-- 50_p6300: string (nullable = true)\n",
      " |-- 50_p6310: string (nullable = true)\n",
      " |-- 50_p6310s1: string (nullable = true)\n",
      " |-- 50_p6320: string (nullable = true)\n",
      " |-- 50_p6330: string (nullable = true)\n",
      " |-- 50_p6340: string (nullable = true)\n",
      " |-- 50_p6350: string (nullable = true)\n",
      " |-- 50_p6351: string (nullable = true)\n",
      " |-- 60_periodo: string (nullable = true)\n",
      " |-- 60_mes: string (nullable = true)\n",
      " |-- 60_per: string (nullable = true)\n",
      " |-- 60_hogar: string (nullable = true)\n",
      " |-- 60_regis: string (nullable = true)\n",
      " |-- 60_area: string (nullable = true)\n",
      " |-- 60_clase: string (nullable = true)\n",
      " |-- 60_fex_c18: string (nullable = true)\n",
      " |-- 60_dpto: string (nullable = true)\n",
      " |-- 60_ft: string (nullable = true)\n",
      " |-- 60_p3044s2: string (nullable = true)\n",
      " |-- 60_p6440: string (nullable = true)\n",
      " |-- 60_p6450: string (nullable = true)\n",
      " |-- 60_p6460: string (nullable = true)\n",
      " |-- 60_p6460s1: string (nullable = true)\n",
      " |-- 60_p6400: string (nullable = true)\n",
      " |-- 60_p6410: string (nullable = true)\n",
      " |-- 60_p6422: string (nullable = true)\n",
      " |-- 60_p6420s2: string (nullable = true)\n",
      " |-- 60_p6424s1: string (nullable = true)\n",
      " |-- 60_p6424s2: string (nullable = true)\n",
      " |-- 60_p6424s3: string (nullable = true)\n",
      " |-- 60_p6424s5: string (nullable = true)\n",
      " |-- 60_p6426: string (nullable = true)\n",
      " |-- 60_p6430: string (nullable = true)\n",
      " |-- 60_p6430s1: string (nullable = true)\n",
      " |-- 60_p3045s1: string (nullable = true)\n",
      " |-- 60_p3045s2: string (nullable = true)\n",
      " |-- 60_p3045s3: string (nullable = true)\n",
      " |-- 60_p3046: string (nullable = true)\n",
      " |-- 60_p3363: string (nullable = true)\n",
      " |-- 60_p9440: string (nullable = true)\n",
      " |-- 60_p6500: string (nullable = true)\n",
      " |-- 60_p3364: string (nullable = true)\n",
      " |-- 60_p3364s1: string (nullable = true)\n",
      " |-- 60_p6510: string (nullable = true)\n",
      " |-- 60_p6510s1: string (nullable = true)\n",
      " |-- 60_p6510s2: string (nullable = true)\n",
      " |-- 60_p6590: string (nullable = true)\n",
      " |-- 60_p6590s1: string (nullable = true)\n",
      " |-- 60_p6600: string (nullable = true)\n",
      " |-- 60_p6600s1: string (nullable = true)\n",
      " |-- 60_p6610: string (nullable = true)\n",
      " |-- 60_p6610s1: string (nullable = true)\n",
      " |-- 60_p6620: string (nullable = true)\n",
      " |-- 60_p6620s1: string (nullable = true)\n",
      " |-- 60_p6585s1: string (nullable = true)\n",
      " |-- 60_p6585s1a1: string (nullable = true)\n",
      " |-- 60_p6585s1a2: string (nullable = true)\n",
      " |-- 60_p6585s2: string (nullable = true)\n",
      " |-- 60_p6585s2a1: string (nullable = true)\n",
      " |-- 60_p6585s2a2: string (nullable = true)\n",
      " |-- 60_p6585s3: string (nullable = true)\n",
      " |-- 60_p6585s3a1: string (nullable = true)\n",
      " |-- 60_p6585s3a2: string (nullable = true)\n",
      " |-- 60_p6585s4: string (nullable = true)\n",
      " |-- 60_p6585s4a1: string (nullable = true)\n",
      " |-- 60_p6585s4a2: string (nullable = true)\n",
      " |-- 60_p6545: string (nullable = true)\n",
      " |-- 60_p6545s1: string (nullable = true)\n",
      " |-- 60_p6545s2: string (nullable = true)\n",
      " |-- 60_p6580: string (nullable = true)\n",
      " |-- 60_p6580s1: string (nullable = true)\n",
      " |-- 60_p6580s2: string (nullable = true)\n",
      " |-- 60_p6630s1: string (nullable = true)\n",
      " |-- 60_p6630s1a1: string (nullable = true)\n",
      " |-- 60_p6630s2: string (nullable = true)\n",
      " |-- 60_p6630s2a1: string (nullable = true)\n",
      " |-- 60_p6630s3: string (nullable = true)\n",
      " |-- 60_p6630s3a1: string (nullable = true)\n",
      " |-- 60_p6630s4: string (nullable = true)\n",
      " |-- 60_p6630s4a1: string (nullable = true)\n",
      " |-- 60_p6630s6: string (nullable = true)\n",
      " |-- 60_p6630s6a1: string (nullable = true)\n",
      " |-- 60_p6640: string (nullable = true)\n",
      " |-- 60_p6640s1: string (nullable = true)\n",
      " |-- 60_p1800: string (nullable = true)\n",
      " |-- 60_p1800s1: string (nullable = true)\n",
      " |-- 60_p1801s1: string (nullable = true)\n",
      " |-- 60_p1801s2: string (nullable = true)\n",
      " |-- 60_p1801s3: string (nullable = true)\n",
      " |-- 60_p1802: string (nullable = true)\n",
      " |-- 60_p3047: string (nullable = true)\n",
      " |-- 60_p3048: string (nullable = true)\n",
      " |-- 60_p3049: string (nullable = true)\n",
      " |-- 60_p6765: string (nullable = true)\n",
      " |-- 60_p6765s1: string (nullable = true)\n",
      " |-- 60_p3051: string (nullable = true)\n",
      " |-- 60_p3051s1: string (nullable = true)\n",
      " |-- 60_p3052: string (nullable = true)\n",
      " |-- 60_p3052s1: string (nullable = true)\n",
      " |-- 60_p3053: string (nullable = true)\n",
      " |-- 60_p3365: string (nullable = true)\n",
      " |-- 60_p3365s1: string (nullable = true)\n",
      " |-- 60_p3054: string (nullable = true)\n",
      " |-- 60_p3054s1: string (nullable = true)\n",
      " |-- 60_p3055: string (nullable = true)\n",
      " |-- 60_p3055s1: string (nullable = true)\n",
      " |-- 60_p3056: string (nullable = true)\n",
      " |-- 60_p3057: string (nullable = true)\n",
      " |-- 60_p6760: string (nullable = true)\n",
      " |-- 60_p3058s1: string (nullable = true)\n",
      " |-- 60_p3058s2: string (nullable = true)\n",
      " |-- 60_p3058s3: string (nullable = true)\n",
      " |-- 60_p3058s4: string (nullable = true)\n",
      " |-- 60_p3058s5: string (nullable = true)\n",
      " |-- 60_p3059: string (nullable = true)\n",
      " |-- 60_p3061: string (nullable = true)\n",
      " |-- 60_p3062s1: string (nullable = true)\n",
      " |-- 60_p3062s2: string (nullable = true)\n",
      " |-- 60_p3062s3: string (nullable = true)\n",
      " |-- 60_p3062s4: string (nullable = true)\n",
      " |-- 60_p3062s5: string (nullable = true)\n",
      " |-- 60_p3062s6: string (nullable = true)\n",
      " |-- 60_p3062s7: string (nullable = true)\n",
      " |-- 60_p3062s8: string (nullable = true)\n",
      " |-- 60_p3062s9: string (nullable = true)\n",
      " |-- 60_p3063: string (nullable = true)\n",
      " |-- 60_p3063s1: string (nullable = true)\n",
      " |-- 60_p3064: string (nullable = true)\n",
      " |-- 60_p3064s1: string (nullable = true)\n",
      " |-- 60_p3065: string (nullable = true)\n",
      " |-- 60_p3066: string (nullable = true)\n",
      " |-- 60_p3067: string (nullable = true)\n",
      " |-- 60_p3067s1: string (nullable = true)\n",
      " |-- 60_p3067s2: string (nullable = true)\n",
      " |-- 60_p6775: string (nullable = true)\n",
      " |-- 60_p3068: string (nullable = true)\n",
      " |-- 60_p6750: string (nullable = true)\n",
      " |-- 60_p3073: string (nullable = true)\n",
      " |-- 60_p550: string (nullable = true)\n",
      " |-- 60_p6780: string (nullable = true)\n",
      " |-- 60_p6780s1: string (nullable = true)\n",
      " |-- 60_p1879: string (nullable = true)\n",
      " |-- 60_p1805: string (nullable = true)\n",
      " |-- 60_p6790: string (nullable = true)\n",
      " |-- 60_p6800: string (nullable = true)\n",
      " |-- 60_p6810: string (nullable = true)\n",
      " |-- 60_p6810s1: string (nullable = true)\n",
      " |-- 60_p6850: string (nullable = true)\n",
      " |-- 60_p6830: string (nullable = true)\n",
      " |-- 60_p6830s1: string (nullable = true)\n",
      " |-- 60_p3366: string (nullable = true)\n",
      " |-- 60_p3069: string (nullable = true)\n",
      " |-- 60_p6880: string (nullable = true)\n",
      " |-- 60_p6880s1: string (nullable = true)\n",
      " |-- 60_p6915: string (nullable = true)\n",
      " |-- 60_p6915s1: string (nullable = true)\n",
      " |-- 60_p6920: string (nullable = true)\n",
      " |-- 60_p6930: string (nullable = true)\n",
      " |-- 60_p6940: string (nullable = true)\n",
      " |-- 60_p6960: string (nullable = true)\n",
      " |-- 60_p6990: string (nullable = true)\n",
      " |-- 60_p9450: string (nullable = true)\n",
      " |-- 60_p7020: string (nullable = true)\n",
      " |-- 60_p760: string (nullable = true)\n",
      " |-- 60_p7026: string (nullable = true)\n",
      " |-- 60_p7028: string (nullable = true)\n",
      " |-- 60_p7028s1: string (nullable = true)\n",
      " |-- 60_p1880: string (nullable = true)\n",
      " |-- 60_p1880s1: string (nullable = true)\n",
      " |-- 60_p7040: string (nullable = true)\n",
      " |-- 60_p7045: string (nullable = true)\n",
      " |-- 60_p7050: string (nullable = true)\n",
      " |-- 60_p7070: string (nullable = true)\n",
      " |-- 60_p7075: string (nullable = true)\n",
      " |-- 60_p7077: string (nullable = true)\n",
      " |-- 60_p7090: string (nullable = true)\n",
      " |-- 60_p7100: string (nullable = true)\n",
      " |-- 60_p7110: string (nullable = true)\n",
      " |-- 60_p7120: string (nullable = true)\n",
      " |-- 60_p7130: string (nullable = true)\n",
      " |-- 60_p7140s1: string (nullable = true)\n",
      " |-- 60_p7140s2: string (nullable = true)\n",
      " |-- 60_p7140s3: string (nullable = true)\n",
      " |-- 60_p7140s4: string (nullable = true)\n",
      " |-- 60_p7140s5: string (nullable = true)\n",
      " |-- 60_p7140s6: string (nullable = true)\n",
      " |-- 60_p7140s7: string (nullable = true)\n",
      " |-- 60_p7140s8: string (nullable = true)\n",
      " |-- 60_p7140s9: string (nullable = true)\n",
      " |-- 60_p7150: string (nullable = true)\n",
      " |-- 60_p7160: string (nullable = true)\n",
      " |-- 60_p7170s1: string (nullable = true)\n",
      " |-- 60_p7170s5: string (nullable = true)\n",
      " |-- 60_p7170s6: string (nullable = true)\n",
      " |-- 60_p7180: string (nullable = true)\n",
      " |-- 60_p514: string (nullable = true)\n",
      " |-- 60_p515: string (nullable = true)\n",
      " |-- 60_p1881: string (nullable = true)\n",
      " |-- 60_p1882: string (nullable = true)\n",
      " |-- 60_p7240: string (nullable = true)\n",
      " |-- 60_oci: string (nullable = true)\n",
      " |-- 60_inglabo: string (nullable = true)\n",
      " |-- 60_rama2d_r4: string (nullable = true)\n",
      " |-- 60_rama4d_r4: string (nullable = true)\n",
      " |-- 60_oficio_c8: string (nullable = true)\n",
      " |-- 70_periodo: string (nullable = true)\n",
      " |-- 70_mes: string (nullable = true)\n",
      " |-- 70_per: string (nullable = true)\n",
      " |-- 70_hogar: string (nullable = true)\n",
      " |-- 70_regis: string (nullable = true)\n",
      " |-- 70_area: string (nullable = true)\n",
      " |-- 70_clase: string (nullable = true)\n",
      " |-- 70_fex_c18: string (nullable = true)\n",
      " |-- 70_dpto: string (nullable = true)\n",
      " |-- 70_fft: string (nullable = true)\n",
      " |-- 70_dscy: string (nullable = true)\n",
      " |-- 70_dsi: string (nullable = true)\n",
      " |-- 70_p7250: string (nullable = true)\n",
      " |-- 70_p7280: string (nullable = true)\n",
      " |-- 70_p744: string (nullable = true)\n",
      " |-- 70_p3074: string (nullable = true)\n",
      " |-- 70_p7260: string (nullable = true)\n",
      " |-- 70_p1806: string (nullable = true)\n",
      " |-- 70_p7430: string (nullable = true)\n",
      " |-- 70_p7440s1: string (nullable = true)\n",
      " |-- 70_p7440s2: string (nullable = true)\n",
      " |-- 70_p7450: string (nullable = true)\n",
      " |-- 70_p7350: string (nullable = true)\n",
      " |-- 70_p7360: string (nullable = true)\n",
      " |-- 70_p9460: string (nullable = true)\n",
      " |-- 70_p1519: string (nullable = true)\n",
      " |-- 70_p1883: string (nullable = true)\n",
      " |-- 70_p7422: string (nullable = true)\n",
      " |-- 70_p7422s1: string (nullable = true)\n",
      " |-- 70_oficio1_c8: string (nullable = true)\n",
      " |-- 70_oficio2_c8: string (nullable = true)\n",
      " |-- 70_rama2d_d_r4: string (nullable = true)\n",
      " |-- 70_rama4d_d_r4: string (nullable = true)\n",
      " |-- 70_p7440: string (nullable = true)\n",
      " |-- 80_periodo: string (nullable = true)\n",
      " |-- 80_mes: string (nullable = true)\n",
      " |-- 80_per: string (nullable = true)\n",
      " |-- 80_hogar: string (nullable = true)\n",
      " |-- 80_regis: string (nullable = true)\n",
      " |-- 80_area: string (nullable = true)\n",
      " |-- 80_clase: string (nullable = true)\n",
      " |-- 80_fex_c18: string (nullable = true)\n",
      " |-- 80_dpto: string (nullable = true)\n",
      " |-- 80_p3076s1: string (nullable = true)\n",
      " |-- 80_p3076s1a1: string (nullable = true)\n",
      " |-- 80_p3076s1a2: string (nullable = true)\n",
      " |-- 80_p3076s2: string (nullable = true)\n",
      " |-- 80_p3076s2a1: string (nullable = true)\n",
      " |-- 80_p3076s2a2: string (nullable = true)\n",
      " |-- 80_p3076s3: string (nullable = true)\n",
      " |-- 80_p3076s3a1: string (nullable = true)\n",
      " |-- 80_p3076s3a2: string (nullable = true)\n",
      " |-- 80_p3077s1: string (nullable = true)\n",
      " |-- 80_p3077s1a1: string (nullable = true)\n",
      " |-- 80_p3077s1a2: string (nullable = true)\n",
      " |-- 80_p3077s2: string (nullable = true)\n",
      " |-- 80_p3077s2a1: string (nullable = true)\n",
      " |-- 80_p3077s2a2: string (nullable = true)\n",
      " |-- 80_p3077s3: string (nullable = true)\n",
      " |-- 80_p3077s3a1: string (nullable = true)\n",
      " |-- 80_p3077s3a2: string (nullable = true)\n",
      " |-- 80_p3078s1: string (nullable = true)\n",
      " |-- 80_p3078s1a1: string (nullable = true)\n",
      " |-- 80_p3078s1a2: string (nullable = true)\n",
      " |-- 80_p3078s2: string (nullable = true)\n",
      " |-- 80_p3078s2a1: string (nullable = true)\n",
      " |-- 80_p3078s2a2: string (nullable = true)\n",
      " |-- 80_p3078s3: string (nullable = true)\n",
      " |-- 80_p3078s3a1: string (nullable = true)\n",
      " |-- 80_p3078s3a2: string (nullable = true)\n",
      " |-- 80_p3079s1: string (nullable = true)\n",
      " |-- 80_p3079s1a1: string (nullable = true)\n",
      " |-- 80_p3079s1a2: string (nullable = true)\n",
      " |-- 80_p3079s2: string (nullable = true)\n",
      " |-- 80_p3079s2a1: string (nullable = true)\n",
      " |-- 80_p3079s2a2: string (nullable = true)\n",
      " |-- 80_p3079s3: string (nullable = true)\n",
      " |-- 80_p3079s3a1: string (nullable = true)\n",
      " |-- 80_p3079s3a2: string (nullable = true)\n",
      " |-- 80_p3081s1: string (nullable = true)\n",
      " |-- 80_p3081s1a1: string (nullable = true)\n",
      " |-- 80_p3081s1a2: string (nullable = true)\n",
      " |-- 80_p3081s2: string (nullable = true)\n",
      " |-- 80_p3081s2a1: string (nullable = true)\n",
      " |-- 80_p3081s2a2: string (nullable = true)\n",
      " |-- 80_p3081s3: string (nullable = true)\n",
      " |-- 80_p3081s3a1: string (nullable = true)\n",
      " |-- 80_p3081s3a2: string (nullable = true)\n",
      " |-- 80_p3082s1: string (nullable = true)\n",
      " |-- 80_p3082s1a1: string (nullable = true)\n",
      " |-- 80_p3082s1a2: string (nullable = true)\n",
      " |-- 80_p3082s2: string (nullable = true)\n",
      " |-- 80_p3082s2a1: string (nullable = true)\n",
      " |-- 80_p3082s2a2: string (nullable = true)\n",
      " |-- 80_p3082s3: string (nullable = true)\n",
      " |-- 80_p3082s3a1: string (nullable = true)\n",
      " |-- 80_p3082s3a2: string (nullable = true)\n",
      " |-- 80_p3083: string (nullable = true)\n",
      " |-- 80_p3083s1: string (nullable = true)\n",
      " |-- 80_p3084s2: string (nullable = true)\n",
      " |-- 80_p3085: string (nullable = true)\n",
      " |-- 80_p3086: string (nullable = true)\n",
      " |-- 80_p3086s1: string (nullable = true)\n",
      " |-- 80_p3087: string (nullable = true)\n",
      " |-- 80_p3087s1: string (nullable = true)\n",
      " |-- 80_p3088: string (nullable = true)\n",
      " |-- 80_p3089: string (nullable = true)\n",
      " |-- 80_p3089s1: string (nullable = true)\n",
      " |-- 80_p3089s2: string (nullable = true)\n",
      " |-- 80_p3089s3: string (nullable = true)\n",
      " |-- 80_p3091: string (nullable = true)\n",
      " |-- 80_p3091s1: string (nullable = true)\n",
      " |-- 80_p3091s2: string (nullable = true)\n",
      " |-- 80_p3092: string (nullable = true)\n",
      " |-- 80_p3092s1: string (nullable = true)\n",
      " |-- 80_p3092s2: string (nullable = true)\n",
      " |-- 80_p3093: string (nullable = true)\n",
      " |-- 80_p3093s1: string (nullable = true)\n",
      " |-- 80_p3093s2: string (nullable = true)\n",
      " |-- 80_p3094: string (nullable = true)\n",
      " |-- 80_p3094s1: string (nullable = true)\n",
      " |-- 80_p3094s2: string (nullable = true)\n",
      " |-- 80_p3094s3: string (nullable = true)\n",
      " |-- 80_p3095: string (nullable = true)\n",
      " |-- 80_p3095s1: string (nullable = true)\n",
      " |-- 80_p3095s2: string (nullable = true)\n",
      " |-- 80_p3095s3: string (nullable = true)\n",
      " |-- 80_p3096: string (nullable = true)\n",
      " |-- 80_p3096s1: string (nullable = true)\n",
      " |-- 80_p3096s2: string (nullable = true)\n",
      " |-- 80_p3096s3: string (nullable = true)\n",
      " |-- 80_p3097: string (nullable = true)\n",
      " |-- 80_p3097s1: string (nullable = true)\n",
      " |-- 80_p3097s2: string (nullable = true)\n",
      " |-- 80_p3098: string (nullable = true)\n",
      " |-- 80_p3098s1: string (nullable = true)\n",
      " |-- 80_p3098s2: string (nullable = true)\n",
      " |-- 80_p3099: string (nullable = true)\n",
      " |-- 80_p3099s1: string (nullable = true)\n",
      " |-- 80_p3099s2: string (nullable = true)\n",
      " |-- 80_p3101: string (nullable = true)\n",
      " |-- 80_p3101s1: string (nullable = true)\n",
      " |-- 80_p3101s2: string (nullable = true)\n",
      " |-- 90_periodo: string (nullable = true)\n",
      " |-- 90_mes: string (nullable = true)\n",
      " |-- 90_per: string (nullable = true)\n",
      " |-- 90_hogar: string (nullable = true)\n",
      " |-- 90_regis: string (nullable = true)\n",
      " |-- 90_area: string (nullable = true)\n",
      " |-- 90_clase: string (nullable = true)\n",
      " |-- 90_fex_c18: string (nullable = true)\n",
      " |-- 90_dpto: string (nullable = true)\n",
      " |-- 90_p7495: string (nullable = true)\n",
      " |-- 90_p7500s1: string (nullable = true)\n",
      " |-- 90_p7500s1a1: string (nullable = true)\n",
      " |-- 90_p7500s2: string (nullable = true)\n",
      " |-- 90_p7500s2a1: string (nullable = true)\n",
      " |-- 90_p7500s3: string (nullable = true)\n",
      " |-- 90_p7500s3a1: string (nullable = true)\n",
      " |-- 90_p7505: string (nullable = true)\n",
      " |-- 90_p7510s1: string (nullable = true)\n",
      " |-- 90_p7510s1a1: string (nullable = true)\n",
      " |-- 90_p7510s2: string (nullable = true)\n",
      " |-- 90_p7510s2a1: string (nullable = true)\n",
      " |-- 90_p7510s3: string (nullable = true)\n",
      " |-- 90_p7510s3a1: string (nullable = true)\n",
      " |-- 90_p750s1: string (nullable = true)\n",
      " |-- 90_p750s1a1: string (nullable = true)\n",
      " |-- 90_p750s2: string (nullable = true)\n",
      " |-- 90_p750s2a1: string (nullable = true)\n",
      " |-- 90_p1661s1: string (nullable = true)\n",
      " |-- 90_p1661s1a1: string (nullable = true)\n",
      " |-- 90_p1661s2: string (nullable = true)\n",
      " |-- 90_p1661s2a1: string (nullable = true)\n",
      " |-- 90_p1661s3: string (nullable = true)\n",
      " |-- 90_p1661s3a1: string (nullable = true)\n",
      " |-- 90_p1661s4: string (nullable = true)\n",
      " |-- 90_p1661s4a1: string (nullable = true)\n",
      " |-- 90_p1661s4a2: string (nullable = true)\n",
      " |-- 90_p750s3: string (nullable = true)\n",
      " |-- 90_p750s3a1: string (nullable = true)\n",
      " |-- 90_p7510s5: string (nullable = true)\n",
      " |-- 90_p7510s5a1: string (nullable = true)\n",
      " |-- 90_p7510s6: string (nullable = true)\n",
      " |-- 90_p7510s6a1: string (nullable = true)\n",
      " |-- 90_p7510s7: string (nullable = true)\n",
      " |-- 90_p7510s7a1: string (nullable = true)\n",
      " |-- 90_p3367: string (nullable = true)\n",
      " |-- 90_p3368: string (nullable = true)\n",
      " |-- 90_p3369: string (nullable = true)\n",
      " |-- 90_p3370: string (nullable = true)\n",
      " |-- 90_p3370s1: string (nullable = true)\n",
      " |-- 90_p3371: string (nullable = true)\n",
      " |-- 90_p3371s1: string (nullable = true)\n",
      " |-- 90_p3371s2: string (nullable = true)\n",
      " |-- 90_p3371s3: string (nullable = true)\n",
      " |-- 90_p3371s4: string (nullable = true)\n",
      " |-- 90_p3372: string (nullable = true)\n",
      " |-- 90_p3372s1: string (nullable = true)\n",
      " |-- 94_periodo: string (nullable = true)\n",
      " |-- 94_mes: string (nullable = true)\n",
      " |-- 94_per: string (nullable = true)\n",
      " |-- 94_hogar: string (nullable = true)\n",
      " |-- 94_regis: string (nullable = true)\n",
      " |-- 94_area: string (nullable = true)\n",
      " |-- 94_clase: string (nullable = true)\n",
      " |-- 94_fex_c18: string (nullable = true)\n",
      " |-- 94_dpto: string (nullable = true)\n",
      " |-- 94_p3373: string (nullable = true)\n",
      " |-- 94_p3373s1: string (nullable = true)\n",
      " |-- 94_p3373s2: string (nullable = true)\n",
      " |-- 94_p3373s3: string (nullable = true)\n",
      " |-- 94_p3373s3a1: string (nullable = true)\n",
      " |-- 94_p3373s3a2: string (nullable = true)\n",
      " |-- 94_p3374: string (nullable = true)\n",
      " |-- 94_p3374s1: string (nullable = true)\n",
      " |-- 94_p3374s2: string (nullable = true)\n",
      " |-- 94_p3374s3: string (nullable = true)\n",
      " |-- 94_p3375s1: string (nullable = true)\n",
      " |-- 94_p3376: string (nullable = true)\n",
      " |-- 94_p3377: string (nullable = true)\n",
      " |-- 94_p3378: string (nullable = true)\n",
      " |-- 94_p3378s1: string (nullable = true)\n",
      " |-- 94_p3379: string (nullable = true)\n",
      " |-- 94_p3380: string (nullable = true)\n",
      " |-- 94_p3381: string (nullable = true)\n",
      " |-- 94_p3382: string (nullable = true)\n",
      " |-- 94_p3382s1: string (nullable = true)\n",
      " |-- 94_p3382s2: string (nullable = true)\n",
      " |-- 94_p3382s3: string (nullable = true)\n",
      " |-- 94_p3383: string (nullable = true)\n",
      " |-- 94_p3384: string (nullable = true)\n",
      " |-- 94_p3384s1: string (nullable = true)\n",
      " |-- 94_p3384s2: string (nullable = true)\n",
      " |-- 94_p3384s3: string (nullable = true)\n",
      " |-- 94_p3385: string (nullable = true)\n",
      " |-- 94_p3386: string (nullable = true)\n",
      " |-- 94_p3386s1: string (nullable = true)\n",
      " |-- 94_p3375: string (nullable = true)\n",
      " |-- 01_periodo: string (nullable = true)\n",
      " |-- 01_mes: string (nullable = true)\n",
      " |-- 01_per: string (nullable = true)\n",
      " |-- 01_hogar: string (nullable = true)\n",
      " |-- 01_regis: string (nullable = true)\n",
      " |-- 01_area: string (nullable = true)\n",
      " |-- 01_clase: string (nullable = true)\n",
      " |-- 01_fex_c18: string (nullable = true)\n",
      " |-- 01_dpto: string (nullable = true)\n",
      " |-- 01_p4000: string (nullable = true)\n",
      " |-- 01_p4010: string (nullable = true)\n",
      " |-- 01_p4020: string (nullable = true)\n",
      " |-- 01_p4030s1: string (nullable = true)\n",
      " |-- 01_p4030s1a1: string (nullable = true)\n",
      " |-- 01_p4030s2: string (nullable = true)\n",
      " |-- 01_p4030s3: string (nullable = true)\n",
      " |-- 01_p4030s4: string (nullable = true)\n",
      " |-- 01_p4030s4a1: string (nullable = true)\n",
      " |-- 01_p4030s5: string (nullable = true)\n",
      " |-- 01_p70: string (nullable = true)\n",
      " |-- 01_p5000: string (nullable = true)\n",
      " |-- 01_p5010: string (nullable = true)\n",
      " |-- 01_p5020: string (nullable = true)\n",
      " |-- 01_p5030: string (nullable = true)\n",
      " |-- 01_p5040: string (nullable = true)\n",
      " |-- 01_p5050: string (nullable = true)\n",
      " |-- 01_p5070: string (nullable = true)\n",
      " |-- 01_p5080: string (nullable = true)\n",
      " |-- 01_p5090: string (nullable = true)\n",
      " |-- 01_p5090s1: string (nullable = true)\n",
      " |-- 01_p5100: string (nullable = true)\n",
      " |-- 01_p5110: string (nullable = true)\n",
      " |-- 01_p5130: string (nullable = true)\n",
      " |-- 01_p5140: string (nullable = true)\n",
      " |-- 01_p5222s1: string (nullable = true)\n",
      " |-- 01_p5222s2: string (nullable = true)\n",
      " |-- 01_p5222s3: string (nullable = true)\n",
      " |-- 01_p5222s4: string (nullable = true)\n",
      " |-- 01_p5222s5: string (nullable = true)\n",
      " |-- 01_p5222s6: string (nullable = true)\n",
      " |-- 01_p5222s7: string (nullable = true)\n",
      " |-- 01_p5222s8: string (nullable = true)\n",
      " |-- 01_p5222s9: string (nullable = true)\n",
      " |-- 01_p5222s10: string (nullable = true)\n",
      " |-- 01_p5222s8a1: string (nullable = true)\n",
      " |-- 01_p6008: string (nullable = true)\n",
      "\n",
      "Consolidado anual guardado en zona trusted."
     ]
    }
   ],
   "source": [
    "df_geih_2024 = spark.read.parquet(\"s3://geih-datalake-2024/trusted/*/\")\n",
    "df_geih_2024.write.mode(\"overwrite\").parquet(\"s3://geih-datalake-2024/trusted/geih2024_full/\")\n",
    "df_geih_2024.printSchema()\n",
    "\n",
    "print(\"Consolidado anual guardado en zona trusted.\")"
   ]
  },
  {
   "cell_type": "markdown",
   "id": "5c1852a2",
   "metadata": {},
   "source": [
    "## Eliminación de columnas con más del 40% de nulos"
   ]
  },
  {
   "cell_type": "code",
   "execution_count": 5,
   "id": "8e52fd54",
   "metadata": {},
   "outputs": [
    {
     "data": {
      "application/vnd.jupyter.widget-view+json": {
       "model_id": "5990e748b57f437a82522e33ef05424b",
       "version_major": 2,
       "version_minor": 0
      },
      "text/plain": [
       "FloatProgress(value=0.0, bar_style='info', description='Progress:', layout=Layout(height='25px', width='50%'),…"
      ]
     },
     "metadata": {},
     "output_type": "display_data"
    },
    {
     "name": "stdout",
     "output_type": "stream",
     "text": [
      "+----------+-----------+-----+-------+---+---+-----+-----+------------------+-----+-------+----+---+-----+-----+-----+--------------------+--------------------+-----+-----+------------------+-----+-----------------+-----+-------------------+-----+-----+------------------+---------+------------------+------------------+------------------+------------------+------------------+------------------+------------------+------------------+------------------+------------------+------------------+-----------------+------------------+------------------+------------------+-----+-------------------+------------------+------------------+-------+-------+-------+-------+-------+-------+-------+-------+-------------------+-------------------+------------------+-------------------+-------------------+------------------+------------------+------------------+-------------------+-------------------+-------------------+------------------+------------------+------------------+------------------+------------------+-----------------+------------------+------------------+------------------+------------------+------------------+------------------+------------------+------------------+------------------+------------------+------------------+------------------+-----------------+------------------+------------------+------------------+--------+-----------------+------------------+-----------------+------------------+------------------+-----------------+------------------+------------------+------------------+------------------+------------------+------------------+------------------+------------------+------------------+------------------+------------------+------------------+------------------+------------------+------------------+------------------+------------------+------------------+------------------+------------------+------------------+------------------+------------------+------------------+------------------+------------------+------------------+------------------+------------------+------------------+------------------+------------------+------------------+------------------+------------------+------------------+------------------+-----------------+-----------------+-----------------+-----------------+-----------------+-----------------+------------------+-----------------+------------------+-----------------+------------------+------------------+-----------------+------------------+-----------------+------------------+-----------------+------------------+-----------------+------------------+-----------------+------------------+------------------+-----------------+------------------+------------------+-----------------+------------------+------------------+-----------------+------------------+------------------+-----------------+------------------+------------------+-----------------+------------------+------------------+-----------------+------------------+-----------------+------------------+-----------------+------------------+-----------------+------------------+-----------------+------------------+-----------------+-----------------+------------------+------------------+------------------+------------------+------------------+------------------+------------------+------------------+------------------+------------------+------------------+------------------+------------------+------------------+------------------+------------------+------------------+------------------+------------------+------------------+------------------+------------------+------------------+------------------+------------------+------------------+------------------+------------------+------------------+------------------+------------------+------------------+------------------+------------------+------------------+------------------+------------------+------------------+------------------+------------------+------------------+------------------+------------------+------------------+------------------+------------------+------------------+------------------+------------------+-----------------+------------------+------------------+------------------+------------------+------------------+------------------+------------------+------------------+------------------+------------------+------------------+------------------+------------------+------------------+------------------+------------------+------------------+------------------+------------------+------------------+------------------+------------------+------------------+------------------+------------------+------------------+------------------+------------------+------------------+------------------+------------------+------------------+-----------------+------------------+------------------+------------------+------------------+------------------+------------------+------------------+------------------+------------------+------------------+------------------+------------------+------------------+------------------+------------------+------------------+------------------+------------------+------------------+------------------+------------------+------------------+------------------+------------------+------------------+------------------+------------------+------------------+------------------+------------------+------------------+------------------+------------------+------------------+------------------+------------------+------------------+------------------+------------------+------------------+------------------+------------------+------------------+------------------+------------------+------------------+------------------+------------------+-----------------+------------------+------------------+------------------+------------------+------------------+------------------+------------------+------------------+------------------+------------------+------------------+------------------+------------------+------------------+------------------+------------------+------------------+------------------+------------------+------------------+------------------+------------------+--------+------------------+------------------+------------------+------------------+------------------+-----------------+------------------+------------------+------------------+------------------+------------------+------------------+------------------+------------------+------------------+------------------+------------------+------------------+------------------+------------------+------------------+------------------+------------------+------------------+------------------+------------------+------------------+------------------+------------------+------------------+------------------+-----------------+-----------------+------------------+------------------+------------------+------------------+------------------+------------------+------------------+------------------+------------------+------------------+------------------+------------------+------------------+------------------+------------------+------------------+------------------+------------------+------------------+------------------+------------------+------------------+------------------+------------------+------------------+------------------+------------------+------------------+------------------+------------------+------------------+------------------+------------------+------------------+------------------+------------------+------------------+------------------+------------------+------------------+------------------+------------------+------------------+------------------+------------------+------------------+------------------+------------------+------------------+------------------+------------------+------------------+------------------+------------------+------------------+------------------+------------------+------------------+------------------+------------------+------------------+------------------+------------------+------------------+------------------+------------------+------------------+------------------+------------------+------------------+------------------+------------------+------------------+------------------+------------------+------------------+------------------+------------------+------------------+------------------+------------------+-----------------+------------------+------------------+------------------+------------------+------------------+------------------+------------------+------------------+------------------+------------------+------------------+------------------+------------------+------------------+------------------+------------------+------------------+------------------+------------------+------------------+------------------+------------------+------------------+-----------------+-----------------+------------------+------------------+------------------+------------------+------------------+------------------+------------------+------------------+-----------------+------------------+------------------+------------------+------------------+------------------+------------------+------------------+------------------+------------------+------------------+------------------+------------------+------------------+------------------+------------------+------------------+----------+------+------+--------+--------+------------------+--------+----------+-------+--------+----------+----------+----------+------------------+------------------+--------+------------------+------------------+------------------+------------------+-------------------+------------------+------------------+------------------+------------------+------------------+------------------+--------+----------+----------+----------+-------------------+--------+----------+----------+----------+--------------------+-----------------+------------------+------------------+----------+------+------+--------+--------+------------------+--------+----------+-------+--------+--------+--------+----------+---------------------+----------+----------+----------+-------------------+----------+------+--------+--------+--------+-------------------+--------+--------+--------+---------------------+--------+-----------------+------------------+------------------+-----------------+------------------+------------------+-------------------+------------------+------------------+------------------+------------------+------------------+------------------+------------------+------------------+------------------+--------+\n",
      "|directorio|secuencia_p|orden|periodo|mes|per|hogar|regis|area              |clase|fex_c18|dpto|pt |p6016|p3271|p6040|p6030s1             |p6030s3             |p6050|p6083|p6083s1           |p6081|p6081s1          |p2057|p2059              |p2061|p6080|p6080s1           |p6080s1a1|p6070             |p6071             |p6071s1           |p3147s1           |p3147s2           |p3147s3           |p3147s4           |p3147s5           |p3147s6           |p3147s7           |p3147s8           |p3147s9          |p3147s10          |p3147s11          |p3147s10a1        |p6090|p6100              |p6110             |p6120             |p1906s1|p1906s2|p1906s3|p1906s4|p1906s5|p1906s6|p1906s7|p1906s8|p6160              |p6170              |p3041             |p3042              |p3042s1            |p3042s2           |p3043             |p3043s1           |p3038              |p3039              |pob_may18          |50_periodo        |50_mes            |50_per            |50_hogar          |50_regis          |50_area          |50_clase          |50_fex_c18        |50_dpto           |50_ft             |50_fft            |50_pet            |50_p6240          |50_p6240s1        |50_p6240s2        |50_p6250          |50_p6260          |50_p6260s1        |50_p6260s1a1     |50_p6260s2        |50_p6270          |50_p6280          |50_p6290|50_p3362s1       |50_p3362s2        |50_p3362s3       |50_p3362s4        |50_p3362s5        |50_p3362s6       |50_p3362s7        |50_p3362s8        |50_p3362s7a1      |50_p6300          |50_p6310          |50_p6310s1        |50_p6320          |50_p6330          |50_p6340          |50_p6350          |50_p6351          |60_periodo        |60_mes            |60_per            |60_hogar          |60_regis          |60_area           |60_clase          |60_fex_c18        |60_dpto           |60_ft             |60_p3044s2        |60_p6440          |60_p6450          |60_p6460          |60_p6460s1        |60_p6400          |60_p6410          |60_p6422          |60_p6420s2        |60_p6424s1        |60_p6424s2        |60_p6424s3        |60_p6424s5        |60_p6426          |60_p6430          |60_p6430s1        |60_p3045s1       |60_p3045s2       |60_p3045s3       |60_p3046         |60_p3363         |60_p9440         |60_p6500          |60_p3364         |60_p3364s1        |60_p6510         |60_p6510s1        |60_p6510s2        |60_p6590         |60_p6590s1        |60_p6600         |60_p6600s1        |60_p6610         |60_p6610s1        |60_p6620         |60_p6620s1        |60_p6585s1       |60_p6585s1a1      |60_p6585s1a2      |60_p6585s2       |60_p6585s2a1      |60_p6585s2a2      |60_p6585s3       |60_p6585s3a1      |60_p6585s3a2      |60_p6585s4       |60_p6585s4a1      |60_p6585s4a2      |60_p6545         |60_p6545s1        |60_p6545s2        |60_p6580         |60_p6580s1        |60_p6580s2        |60_p6630s1       |60_p6630s1a1      |60_p6630s2       |60_p6630s2a1      |60_p6630s3       |60_p6630s3a1      |60_p6630s4       |60_p6630s4a1      |60_p6630s6       |60_p6630s6a1      |60_p6640         |60_p6640s1       |60_p1800          |60_p1800s1        |60_p1801s1        |60_p1801s2        |60_p1801s3        |60_p1802          |60_p3047          |60_p3048          |60_p3049          |60_p6765          |60_p6765s1        |60_p3051          |60_p3051s1        |60_p3052          |60_p3052s1        |60_p3053          |60_p3365          |60_p3365s1        |60_p3054          |60_p3054s1        |60_p3055          |60_p3055s1        |60_p3056          |60_p3057          |60_p6760          |60_p3058s1        |60_p3058s2        |60_p3058s3        |60_p3058s4        |60_p3058s5        |60_p3059          |60_p3061          |60_p3062s1        |60_p3062s2        |60_p3062s3        |60_p3062s4        |60_p3062s5        |60_p3062s6        |60_p3062s7        |60_p3062s8        |60_p3062s9        |60_p3063          |60_p3063s1        |60_p3064          |60_p3064s1        |60_p3065          |60_p3066          |60_p3067          |60_p3067s1        |60_p3067s2       |60_p6775          |60_p3068          |60_p6750          |60_p3073          |60_p550           |60_p6780          |60_p6780s1        |60_p1879          |60_p1805          |60_p6790          |60_p6800          |60_p6810          |60_p6810s1        |60_p6850          |60_p6830          |60_p6830s1        |60_p3366          |60_p3069          |60_p6880          |60_p6880s1        |60_p6915          |60_p6915s1        |60_p6920          |60_p6930          |60_p6940          |60_p6960          |60_p6990          |60_p9450          |60_p7020          |60_p760           |60_p7026          |60_p7028          |60_p7028s1       |60_p1880          |60_p1880s1        |60_p7040          |60_p7045          |60_p7050          |60_p7070          |60_p7075          |60_p7077          |60_p7090          |60_p7100          |60_p7110          |60_p7120          |60_p7130          |60_p7140s1        |60_p7140s2        |60_p7140s3        |60_p7140s4        |60_p7140s5        |60_p7140s6        |60_p7140s7        |60_p7140s8        |60_p7140s9        |60_p7150          |60_p7160          |60_p7170s1        |60_p7170s5        |60_p7170s6        |60_p7180          |60_p514           |60_p515           |60_p1881          |60_p1882          |60_p7240          |60_oci            |60_inglabo        |60_rama2d_r4      |60_rama4d_r4      |60_oficio_c8      |70_periodo        |70_mes            |70_per            |70_hogar          |70_regis          |70_area           |70_clase          |70_fex_c18        |70_dpto           |70_fft            |70_dscy          |70_dsi            |70_p7250          |70_p7280          |70_p744           |70_p3074          |70_p7260          |70_p1806          |70_p7430          |70_p7440s1        |70_p7440s2        |70_p7450          |70_p7350          |70_p7360          |70_p9460          |70_p1519          |70_p1883          |70_p7422          |70_p7422s1        |70_oficio1_c8     |70_oficio2_c8     |70_rama2d_d_r4    |70_rama4d_d_r4    |70_p7440|80_periodo        |80_mes            |80_per            |80_hogar          |80_regis          |80_area          |80_clase          |80_fex_c18        |80_dpto           |80_p3076s1        |80_p3076s1a1      |80_p3076s1a2      |80_p3076s2        |80_p3076s2a1      |80_p3076s2a2      |80_p3076s3        |80_p3076s3a1      |80_p3076s3a2      |80_p3077s1        |80_p3077s1a1      |80_p3077s1a2      |80_p3077s2        |80_p3077s2a1      |80_p3077s2a2      |80_p3077s3        |80_p3077s3a1      |80_p3077s3a2      |80_p3078s1        |80_p3078s1a1      |80_p3078s1a2      |80_p3078s2        |80_p3078s2a1     |80_p3078s2a2     |80_p3078s3        |80_p3078s3a1      |80_p3078s3a2      |80_p3079s1        |80_p3079s1a1      |80_p3079s1a2      |80_p3079s2        |80_p3079s2a1      |80_p3079s2a2      |80_p3079s3        |80_p3079s3a1      |80_p3079s3a2      |80_p3081s1        |80_p3081s1a1      |80_p3081s1a2      |80_p3081s2        |80_p3081s2a1      |80_p3081s2a2      |80_p3081s3        |80_p3081s3a1      |80_p3081s3a2      |80_p3082s1        |80_p3082s1a1      |80_p3082s1a2      |80_p3082s2        |80_p3082s2a1      |80_p3082s2a2      |80_p3082s3        |80_p3082s3a1      |80_p3082s3a2      |80_p3083          |80_p3083s1        |80_p3084s2        |80_p3085          |80_p3086          |80_p3086s1        |80_p3087          |80_p3087s1        |80_p3088          |80_p3089          |80_p3089s1        |80_p3089s2        |80_p3089s3        |80_p3091          |80_p3091s1        |80_p3091s2        |80_p3092          |80_p3092s1        |80_p3092s2        |80_p3093          |80_p3093s1        |80_p3093s2        |80_p3094          |80_p3094s1        |80_p3094s2        |80_p3094s3        |80_p3095          |80_p3095s1        |80_p3095s2        |80_p3095s3        |80_p3096          |80_p3096s1        |80_p3096s2        |80_p3096s3        |80_p3097          |80_p3097s1        |80_p3097s2        |80_p3098          |80_p3098s1        |80_p3098s2        |80_p3099          |80_p3099s1        |80_p3099s2        |80_p3101          |80_p3101s1        |80_p3101s2        |90_periodo        |90_mes            |90_per            |90_hogar          |90_regis          |90_area          |90_clase          |90_fex_c18        |90_dpto           |90_p7495          |90_p7500s1        |90_p7500s1a1      |90_p7500s2        |90_p7500s2a1      |90_p7500s3        |90_p7500s3a1      |90_p7505          |90_p7510s1        |90_p7510s1a1      |90_p7510s2        |90_p7510s2a1      |90_p7510s3        |90_p7510s3a1      |90_p750s1         |90_p750s1a1       |90_p750s2         |90_p750s2a1       |90_p1661s1        |90_p1661s1a1      |90_p1661s2       |90_p1661s2a1     |90_p1661s3        |90_p1661s3a1      |90_p1661s4        |90_p1661s4a1      |90_p1661s4a2      |90_p750s3         |90_p750s3a1       |90_p7510s5        |90_p7510s5a1     |90_p7510s6        |90_p7510s6a1      |90_p7510s7        |90_p7510s7a1      |90_p3367          |90_p3368          |90_p3369          |90_p3370          |90_p3370s1        |90_p3371          |90_p3371s1        |90_p3371s2        |90_p3371s3        |90_p3371s4        |90_p3372          |90_p3372s1        |94_periodo|94_mes|94_per|94_hogar|94_regis|94_area           |94_clase|94_fex_c18|94_dpto|94_p3373|94_p3373s1|94_p3373s2|94_p3373s3|94_p3373s3a1      |94_p3373s3a2      |94_p3374|94_p3374s1        |94_p3374s2        |94_p3374s3        |94_p3375s1        |94_p3376           |94_p3377          |94_p3378          |94_p3378s1        |94_p3379          |94_p3380          |94_p3381          |94_p3382|94_p3382s1|94_p3382s2|94_p3382s3|94_p3383           |94_p3384|94_p3384s1|94_p3384s2|94_p3384s3|94_p3385            |94_p3386         |94_p3386s1        |94_p3375          |01_periodo|01_mes|01_per|01_hogar|01_regis|01_area           |01_clase|01_fex_c18|01_dpto|01_p4000|01_p4010|01_p4020|01_p4030s1|01_p4030s1a1         |01_p4030s2|01_p4030s3|01_p4030s4|01_p4030s4a1       |01_p4030s5|01_p70|01_p5000|01_p5010|01_p5020|01_p5030           |01_p5040|01_p5050|01_p5070|01_p5080             |01_p5090|01_p5090s1       |01_p5100          |01_p5110          |01_p5130         |01_p5140          |01_p5222s1        |01_p5222s2         |01_p5222s3        |01_p5222s4        |01_p5222s5        |01_p5222s6        |01_p5222s7        |01_p5222s8        |01_p5222s9        |01_p5222s10       |01_p5222s8a1      |01_p6008|\n",
      "+----------+-----------+-----+-------+---+---+-----+-----+------------------+-----+-------+----+---+-----+-----+-----+--------------------+--------------------+-----+-----+------------------+-----+-----------------+-----+-------------------+-----+-----+------------------+---------+------------------+------------------+------------------+------------------+------------------+------------------+------------------+------------------+------------------+------------------+------------------+-----------------+------------------+------------------+------------------+-----+-------------------+------------------+------------------+-------+-------+-------+-------+-------+-------+-------+-------+-------------------+-------------------+------------------+-------------------+-------------------+------------------+------------------+------------------+-------------------+-------------------+-------------------+------------------+------------------+------------------+------------------+------------------+-----------------+------------------+------------------+------------------+------------------+------------------+------------------+------------------+------------------+------------------+------------------+------------------+------------------+-----------------+------------------+------------------+------------------+--------+-----------------+------------------+-----------------+------------------+------------------+-----------------+------------------+------------------+------------------+------------------+------------------+------------------+------------------+------------------+------------------+------------------+------------------+------------------+------------------+------------------+------------------+------------------+------------------+------------------+------------------+------------------+------------------+------------------+------------------+------------------+------------------+------------------+------------------+------------------+------------------+------------------+------------------+------------------+------------------+------------------+------------------+------------------+------------------+-----------------+-----------------+-----------------+-----------------+-----------------+-----------------+------------------+-----------------+------------------+-----------------+------------------+------------------+-----------------+------------------+-----------------+------------------+-----------------+------------------+-----------------+------------------+-----------------+------------------+------------------+-----------------+------------------+------------------+-----------------+------------------+------------------+-----------------+------------------+------------------+-----------------+------------------+------------------+-----------------+------------------+------------------+-----------------+------------------+-----------------+------------------+-----------------+------------------+-----------------+------------------+-----------------+------------------+-----------------+-----------------+------------------+------------------+------------------+------------------+------------------+------------------+------------------+------------------+------------------+------------------+------------------+------------------+------------------+------------------+------------------+------------------+------------------+------------------+------------------+------------------+------------------+------------------+------------------+------------------+------------------+------------------+------------------+------------------+------------------+------------------+------------------+------------------+------------------+------------------+------------------+------------------+------------------+------------------+------------------+------------------+------------------+------------------+------------------+------------------+------------------+------------------+------------------+------------------+------------------+-----------------+------------------+------------------+------------------+------------------+------------------+------------------+------------------+------------------+------------------+------------------+------------------+------------------+------------------+------------------+------------------+------------------+------------------+------------------+------------------+------------------+------------------+------------------+------------------+------------------+------------------+------------------+------------------+------------------+------------------+------------------+------------------+------------------+-----------------+------------------+------------------+------------------+------------------+------------------+------------------+------------------+------------------+------------------+------------------+------------------+------------------+------------------+------------------+------------------+------------------+------------------+------------------+------------------+------------------+------------------+------------------+------------------+------------------+------------------+------------------+------------------+------------------+------------------+------------------+------------------+------------------+------------------+------------------+------------------+------------------+------------------+------------------+------------------+------------------+------------------+------------------+------------------+------------------+------------------+------------------+------------------+------------------+-----------------+------------------+------------------+------------------+------------------+------------------+------------------+------------------+------------------+------------------+------------------+------------------+------------------+------------------+------------------+------------------+------------------+------------------+------------------+------------------+------------------+------------------+------------------+--------+------------------+------------------+------------------+------------------+------------------+-----------------+------------------+------------------+------------------+------------------+------------------+------------------+------------------+------------------+------------------+------------------+------------------+------------------+------------------+------------------+------------------+------------------+------------------+------------------+------------------+------------------+------------------+------------------+------------------+------------------+------------------+-----------------+-----------------+------------------+------------------+------------------+------------------+------------------+------------------+------------------+------------------+------------------+------------------+------------------+------------------+------------------+------------------+------------------+------------------+------------------+------------------+------------------+------------------+------------------+------------------+------------------+------------------+------------------+------------------+------------------+------------------+------------------+------------------+------------------+------------------+------------------+------------------+------------------+------------------+------------------+------------------+------------------+------------------+------------------+------------------+------------------+------------------+------------------+------------------+------------------+------------------+------------------+------------------+------------------+------------------+------------------+------------------+------------------+------------------+------------------+------------------+------------------+------------------+------------------+------------------+------------------+------------------+------------------+------------------+------------------+------------------+------------------+------------------+------------------+------------------+------------------+------------------+------------------+------------------+------------------+------------------+------------------+------------------+------------------+-----------------+------------------+------------------+------------------+------------------+------------------+------------------+------------------+------------------+------------------+------------------+------------------+------------------+------------------+------------------+------------------+------------------+------------------+------------------+------------------+------------------+------------------+------------------+------------------+-----------------+-----------------+------------------+------------------+------------------+------------------+------------------+------------------+------------------+------------------+-----------------+------------------+------------------+------------------+------------------+------------------+------------------+------------------+------------------+------------------+------------------+------------------+------------------+------------------+------------------+------------------+------------------+----------+------+------+--------+--------+------------------+--------+----------+-------+--------+----------+----------+----------+------------------+------------------+--------+------------------+------------------+------------------+------------------+-------------------+------------------+------------------+------------------+------------------+------------------+------------------+--------+----------+----------+----------+-------------------+--------+----------+----------+----------+--------------------+-----------------+------------------+------------------+----------+------+------+--------+--------+------------------+--------+----------+-------+--------+--------+--------+----------+---------------------+----------+----------+----------+-------------------+----------+------+--------+--------+--------+-------------------+--------+--------+--------+---------------------+--------+-----------------+------------------+------------------+-----------------+------------------+------------------+-------------------+------------------+------------------+------------------+------------------+------------------+------------------+------------------+------------------+------------------+--------+\n",
      "|0.0       |0.0        |0.0  |0.0    |0.0|0.0|0.0  |0.0  |0.2788703637413325|0.0  |0.0    |0.0 |0.0|0.0  |0.0  |0.0  |0.006725460205885862|0.006725460205885862|0.0  |0.0  |0.6168874136266502|0.0  |0.798345874267642|0.0  |0.29478487566938216|0.0  |0.0  |0.9584443697171088|1.0      |0.1289034486665389|0.6196161666564218|0.6401541311561163|0.8159417512471631|0.8454819491299689|0.8991000177176102|0.7941502959564074|0.9809348871798024|0.9881448697876177|0.9375653110886929|0.8813076801621824|0.864927930305912|0.9981474852443644|0.6540256941506576|0.9981474852443644|0.0  |0.03877384495042082|0.5636200814045846|0.7505999279242795|0.0    |0.0    |0.0    |0.0    |0.0    |0.0    |0.0    |0.0    |0.03148069804973707|0.03148069804973707|0.7424896014501924|0.03148069804973707|0.03148069804973707|0.7533322967928715|0.4971694008434547|0.8084895074383831|0.25649555312089073|0.25649555312089073|0.25649555312089073|0.2071634588149932|0.2071634588149932|0.2071634588149932|0.2071634588149932|0.2071634588149932|0.421082509826042|0.2071634588149932|0.2071634588149932|0.2071634588149932|0.5166021239437231|0.6905613348712701|0.2071634588149932|0.2071634588149932|0.9391406115347669|0.6211408453590106|0.6044911128708194|0.6383558539827862|0.9915883536242155|0.999679395624594|0.9982210073003785|0.6465758609010911|0.6534399282617578|1.0     |0.957521125538308|0.9612767767930643|0.986899815953804|0.9962901493703017|0.9957513893860668|0.999071934702772|0.9999433518584809|0.9999915630427525|0.9999433518584809|0.7089635439077334|0.9706562626931009|0.9992876797523873|0.9883124036529615|0.9958478117546099|0.9924645918983516|0.9969880062626328|0.9413812263237887|0.5737263509075152|0.5737263509075152|0.5737263509075152|0.5737263509075152|0.5737263509075152|0.6871106193570315|0.5737263509075152|0.5737263509075152|0.5737263509075152|0.5737263509075152|0.5737263509075152|0.5737263509075152|0.7429235021086367|0.8319008585206639|0.9442895660149719|0.7429235021086367|0.9826632581359387|0.7429235021086367|0.9826632581359387|0.7429235021086367|0.7429235021086367|0.7429235021086367|0.7429235021086367|0.5737263509075152|0.5737263509075152|0.9998372872530834|0.774093238019822|0.774093238019822|0.774093238019822|0.774093238019822|0.774093238019822|0.774093238019822|0.7785479514465163|0.774093238019822|0.9908205905146905|0.774093238019822|0.9927864015533644|0.9927864015533644|0.774093238019822|0.9796970650236295|0.774093238019822|0.9938000417026744|0.774093238019822|0.9953789579875687|0.774093238019822|0.9989357381072048|0.774093238019822|0.9959153074125902|0.9959153074125902|0.774093238019822|0.9022265130176224|0.9022265130176224|0.774093238019822|0.9740201980756505|0.9740201980756505|0.774093238019822|0.9994286974663817|0.9994286974663817|0.774093238019822|0.9978618339775552|0.9978618339775552|0.774093238019822|0.9931865543828184|0.9931865543828184|0.774093238019822|0.8734842102345113|0.774093238019822|0.9597279924983397|0.774093238019822|0.9609585829768719|0.774093238019822|0.9958164744848333|0.774093238019822|0.9997468912825742|0.774093238019822|0.995698357083368|0.8069877290483233|0.9801562765538163|0.9801562765538163|0.9801562765538163|0.9801562765538163|0.8069877290483233|0.8069877290483233|0.8069877290483233|0.8069877290483233|0.8068250163014067|0.9998493400491513|0.9777999549225427|0.9777999549225427|0.8564041929266961|0.8564041929266961|0.8373149745143628|0.8373149745143628|0.9980558839942484|0.8342041478492388|0.9943604967198315|0.8342041478492388|0.9997348384865062|0.9726208684521679|0.9791824106315303|0.9791824106315303|0.9791824106315303|0.9791824106315303|0.9791824106315303|0.9791824106315303|0.9791824106315303|0.9934384578206376|0.9934384578206376|0.9934384578206376|0.9934384578206376|0.9934384578206376|0.9934384578206376|0.9934384578206376|0.9934384578206376|0.9934384578206376|0.9934384578206376|0.9934384578206376|0.9934384578206376|0.9967794928906583|0.9934384578206376|0.9962347065083893|0.8342041478492388|0.8342041478492388|0.9726208684521679|0.9875771830928198|0.989070524525632|0.9726208684521679|0.9926068148919527|0.8135227550763364|0.8068250163014067|0.9714216152434122|0.8068250163014067|0.9999638416117963|0.8068250163014067|0.8068250163014067|0.5737263509075152|0.5737263509075152|0.9181120982351091|0.9978943765269386|0.5737263509075152|0.9668825322442427|0.9988260576629869|0.9854378117907683|0.5737263509075152|0.5737263509075152|0.9992539319233973|0.5737263509075152|0.9997782285523508|0.5737263509075152|0.8189766452970593|0.8189766452970593|0.8189766452970593|0.5737263509075152|0.5737263509075152|0.5737263509075152|0.6913688722078192|0.6913688722078192|0.6913688722078192|0.999908398749884|0.6913688722078192|0.9909350920773355|0.5737263509075152|0.9875422299842229|0.9875422299842229|0.9888837061865797|0.9875422299842229|0.9875422299842229|0.5737263509075152|0.9726160473337407|0.9726160473337407|0.9726160473337407|0.5737263509075152|0.9169140503059602|0.9169140503059602|0.9169140503059602|0.9169140503059602|0.9169140503059602|0.9169140503059602|0.9169140503059602|0.9169140503059602|0.9169140503059602|0.9169140503059602|0.9169140503059602|0.5737263509075152|0.5737263509075152|0.5737263509075152|0.5737263509075152|0.5737263509075152|0.5737263509075152|0.5737263509075152|0.6346423875142675|0.5737263509075152|0.5737263509075152|0.5919501785621738|0.5737263509075152|0.5737263509075152|0.5737263509075152|0.6334371079074779|0.6334371079074779|0.6334371079074779|0.6334371079074779|0.6334371079074779|0.7339718904690105|0.6334371079074779|0.6334371079074779|0.6334371079074779|0.6905613348712701|0.943705005405679|0.9428757730362078|0.9428757730362078|0.9428757730362078|0.9737514207233365|0.9871456929935891|0.9279869540535362|0.9151326470471253|0.6334371079074779|0.7903199173660301|0.7903199173660301|0.7903199173660301|0.7903199173660301|0.7903199173660301|0.7903199173660301|0.6334371079074779|0.9958321431197217|0.6334371079074779|0.9877748489483332|0.6334371079074779|0.6409990321604757|0.7903199173660301|0.6409990321604757|1.0     |0.2071634588149932|0.2071634588149932|0.2071634588149932|0.2071634588149932|0.2071634588149932|0.421082509826042|0.2071634588149932|0.2071634588149932|0.2071634588149932|0.2071634588149932|0.4758214884479976|0.4758214884479976|0.2071634588149932|0.9959514658007937|0.9959514658007937|0.2071634588149932|0.9987380722516913|0.9987380722516913|0.2071634588149932|0.5048952431229758|0.5048952431229758|0.2071634588149932|0.9971217922989865|0.9971217922989865|0.2071634588149932|0.9986669607548907|0.9986669607548907|0.2071634588149932|0.4347347119321476|0.4347347119321476|0.2071634588149932|0.995681483168873|0.995681483168873|0.2071634588149932|0.9989044008374283|0.9989044008374283|0.2071634588149932|0.9262935362059967|0.9262935362059967|0.2071634588149932|0.9963070232847967|0.9963070232847967|0.2071634588149932|0.9994359291440225|0.9994359291440225|0.2071634588149932|0.9759052553806695|0.9759052553806695|0.2071634588149932|0.9948257346480524|0.9948257346480524|0.2071634588149932|0.9995094512000366|0.9995094512000366|0.2071634588149932|0.9525240362885584|0.9525240362885584|0.2071634588149932|0.9986079020541581|0.9986079020541581|0.2071634588149932|0.9996227474830749|0.9996227474830749|0.6794149090676801|0.9976195727765905|0.9976195727765905|0.9976195727765905|0.9976195727765905|0.9996673428285261|0.9976195727765905|0.9985150955244352|0.9976195727765905|0.2071634588149932|0.9986898610674197|0.9986898610674197|0.9986898610674197|0.2071634588149932|0.9989260958703505|0.9989260958703505|0.9007464296604848|0.9948257346480524|0.9948257346480524|0.2071634588149932|0.9986729871529246|0.9986729871529246|0.2071634588149932|0.9865635429435098|0.9865635429435098|0.9865635429435098|0.2071634588149932|0.9810771101734036|0.9810771101734036|0.9810771101734036|0.2071634588149932|0.9999819208058982|0.9999819208058982|0.9999819208058982|0.9007464296604848|0.9787111463052757|0.9787111463052757|0.2071634588149932|0.9952451719512151|0.9952451719512151|0.2071634588149932|0.9956477353398828|0.9956477353398828|0.2071634588149932|0.9856415040443157|0.9856415040443157|0.2071634588149932|0.2071634588149932|0.2071634588149932|0.2071634588149932|0.2071634588149932|0.421082509826042|0.2071634588149932|0.2071634588149932|0.2071634588149932|0.2071634588149932|0.9239348040155095|0.9753821640313228|0.9239348040155095|0.9476498855587013|0.9239348040155095|0.9945388781016364|0.2071634588149932|0.8173230016765439|0.9101367630769824|0.8173230016765439|0.9922030462236782|0.8173230016765439|0.9374532200852614|0.9988718582880449|0.9988610107715838|0.9389766935082435|0.9389766935082435|0.9849014623657469|0.9848713303755772|0.995927360208658|0.995927360208658|0.9713324245525098|0.9713324245525098|0.9861272317258519|0.9861031261337161|0.9861031261337161|0.9995829732560508|0.9995829732560508|0.8173230016765439|0.997519534569227|0.8173230016765439|0.9672838903533036|0.8173230016765439|0.9884835533571256|0.2071634588149932|0.8837977878298097|0.8837977878298097|0.2071634588149932|0.9560639424936994|0.2071634588149932|0.9833791942223716|0.9833791942223716|0.9833791942223716|0.9833791942223716|0.2071634588149932|0.9988465474163024|0.0       |0.0   |0.0   |0.0     |0.0     |0.2788703637413325|0.0     |0.0       |0.0    |0.0     |0.0       |0.0       |0.0       |0.9565665440897306|0.9565665440897306|0.0     |0.9552491734795097|0.9986151337317988|0.9999915630427525|0.9645635742807795|0.03583778382828141|0.9775854151525342|0.9879857728795215|0.9879857728795215|0.9879857728795215|0.9879857728795215|0.9879857728795215|0.0     |0.0       |0.0       |0.0       |0.07100663747479459|0.0     |0.0       |0.0       |0.0       |0.012546960706679539|0.973027047679656|0.9984355470703872|0.9552491734795097|0.0       |0.0   |0.0   |0.0     |0.0     |0.2788703637413325|0.0     |0.0       |0.0    |0.0     |0.0     |0.0     |0.0       |0.0069279471798265125|0.0       |0.0       |0.0       |0.09750229907084995|0.0       |0.0   |0.0     |0.0     |0.0     |0.01844559910230775|0.0     |0.0     |0.0     |0.0067170232486383355|0.0     |0.993910927426499|0.9642598438198685|0.6471025680892581|0.392511356747095|0.6074886432529051|0.9896394165000367|0.32836758135336025|0.9952957936947002|0.9734537166604594|0.9925971726550984|0.9444233520513257|0.9149530603857136|0.9755267975841375|0.6987825470691819|0.9986717818733178|0.9755267975841375|0.0     |\n",
      "+----------+-----------+-----+-------+---+---+-----+-----+------------------+-----+-------+----+---+-----+-----+-----+--------------------+--------------------+-----+-----+------------------+-----+-----------------+-----+-------------------+-----+-----+------------------+---------+------------------+------------------+------------------+------------------+------------------+------------------+------------------+------------------+------------------+------------------+------------------+-----------------+------------------+------------------+------------------+-----+-------------------+------------------+------------------+-------+-------+-------+-------+-------+-------+-------+-------+-------------------+-------------------+------------------+-------------------+-------------------+------------------+------------------+------------------+-------------------+-------------------+-------------------+------------------+------------------+------------------+------------------+------------------+-----------------+------------------+------------------+------------------+------------------+------------------+------------------+------------------+------------------+------------------+------------------+------------------+------------------+-----------------+------------------+------------------+------------------+--------+-----------------+------------------+-----------------+------------------+------------------+-----------------+------------------+------------------+------------------+------------------+------------------+------------------+------------------+------------------+------------------+------------------+------------------+------------------+------------------+------------------+------------------+------------------+------------------+------------------+------------------+------------------+------------------+------------------+------------------+------------------+------------------+------------------+------------------+------------------+------------------+------------------+------------------+------------------+------------------+------------------+------------------+------------------+------------------+-----------------+-----------------+-----------------+-----------------+-----------------+-----------------+------------------+-----------------+------------------+-----------------+------------------+------------------+-----------------+------------------+-----------------+------------------+-----------------+------------------+-----------------+------------------+-----------------+------------------+------------------+-----------------+------------------+------------------+-----------------+------------------+------------------+-----------------+------------------+------------------+-----------------+------------------+------------------+-----------------+------------------+------------------+-----------------+------------------+-----------------+------------------+-----------------+------------------+-----------------+------------------+-----------------+------------------+-----------------+-----------------+------------------+------------------+------------------+------------------+------------------+------------------+------------------+------------------+------------------+------------------+------------------+------------------+------------------+------------------+------------------+------------------+------------------+------------------+------------------+------------------+------------------+------------------+------------------+------------------+------------------+------------------+------------------+------------------+------------------+------------------+------------------+------------------+------------------+------------------+------------------+------------------+------------------+------------------+------------------+------------------+------------------+------------------+------------------+------------------+------------------+------------------+------------------+------------------+------------------+-----------------+------------------+------------------+------------------+------------------+------------------+------------------+------------------+------------------+------------------+------------------+------------------+------------------+------------------+------------------+------------------+------------------+------------------+------------------+------------------+------------------+------------------+------------------+------------------+------------------+------------------+------------------+------------------+------------------+------------------+------------------+------------------+------------------+-----------------+------------------+------------------+------------------+------------------+------------------+------------------+------------------+------------------+------------------+------------------+------------------+------------------+------------------+------------------+------------------+------------------+------------------+------------------+------------------+------------------+------------------+------------------+------------------+------------------+------------------+------------------+------------------+------------------+------------------+------------------+------------------+------------------+------------------+------------------+------------------+------------------+------------------+------------------+------------------+------------------+------------------+------------------+------------------+------------------+------------------+------------------+------------------+------------------+-----------------+------------------+------------------+------------------+------------------+------------------+------------------+------------------+------------------+------------------+------------------+------------------+------------------+------------------+------------------+------------------+------------------+------------------+------------------+------------------+------------------+------------------+------------------+--------+------------------+------------------+------------------+------------------+------------------+-----------------+------------------+------------------+------------------+------------------+------------------+------------------+------------------+------------------+------------------+------------------+------------------+------------------+------------------+------------------+------------------+------------------+------------------+------------------+------------------+------------------+------------------+------------------+------------------+------------------+------------------+-----------------+-----------------+------------------+------------------+------------------+------------------+------------------+------------------+------------------+------------------+------------------+------------------+------------------+------------------+------------------+------------------+------------------+------------------+------------------+------------------+------------------+------------------+------------------+------------------+------------------+------------------+------------------+------------------+------------------+------------------+------------------+------------------+------------------+------------------+------------------+------------------+------------------+------------------+------------------+------------------+------------------+------------------+------------------+------------------+------------------+------------------+------------------+------------------+------------------+------------------+------------------+------------------+------------------+------------------+------------------+------------------+------------------+------------------+------------------+------------------+------------------+------------------+------------------+------------------+------------------+------------------+------------------+------------------+------------------+------------------+------------------+------------------+------------------+------------------+------------------+------------------+------------------+------------------+------------------+------------------+------------------+------------------+------------------+-----------------+------------------+------------------+------------------+------------------+------------------+------------------+------------------+------------------+------------------+------------------+------------------+------------------+------------------+------------------+------------------+------------------+------------------+------------------+------------------+------------------+------------------+------------------+------------------+-----------------+-----------------+------------------+------------------+------------------+------------------+------------------+------------------+------------------+------------------+-----------------+------------------+------------------+------------------+------------------+------------------+------------------+------------------+------------------+------------------+------------------+------------------+------------------+------------------+------------------+------------------+------------------+----------+------+------+--------+--------+------------------+--------+----------+-------+--------+----------+----------+----------+------------------+------------------+--------+------------------+------------------+------------------+------------------+-------------------+------------------+------------------+------------------+------------------+------------------+------------------+--------+----------+----------+----------+-------------------+--------+----------+----------+----------+--------------------+-----------------+------------------+------------------+----------+------+------+--------+--------+------------------+--------+----------+-------+--------+--------+--------+----------+---------------------+----------+----------+----------+-------------------+----------+------+--------+--------+--------+-------------------+--------+--------+--------+---------------------+--------+-----------------+------------------+------------------+-----------------+------------------+------------------+-------------------+------------------+------------------+------------------+------------------+------------------+------------------+------------------+------------------+------------------+--------+"
     ]
    }
   ],
   "source": [
    "from pyspark.sql.functions import col, count, when, isnan\n",
    "\n",
    "# Conteo de nulos por columna\n",
    "total = df_geih_2024.count()\n",
    "nulos = df_geih_2024.select([\n",
    "    (count(when(col(c).isNull() | isnan(c), c)) / total).alias(c)\n",
    "    for c in df_geih_2024.columns\n",
    "])\n",
    "nulos.show(truncate=False)"
   ]
  },
  {
   "cell_type": "code",
   "execution_count": 7,
   "id": "f54b2f8f",
   "metadata": {},
   "outputs": [
    {
     "data": {
      "application/vnd.jupyter.widget-view+json": {
       "model_id": "f33acccb480043c79224881723f7abb0",
       "version_major": 2,
       "version_minor": 0
      },
      "text/plain": [
       "FloatProgress(value=0.0, bar_style='info', description='Progress:', layout=Layout(height='25px', width='50%'),…"
      ]
     },
     "metadata": {},
     "output_type": "display_data"
    },
    {
     "name": "stdout",
     "output_type": "stream",
     "text": [
      "Columnas a eliminar (m?s del 40% nulos):\n",
      "['p6083s1', 'p6081s1', 'p6080s1', 'p6080s1a1', 'p6071', 'p6071s1', 'p3147s1', 'p3147s2', 'p3147s3', 'p3147s4', 'p3147s5', 'p3147s6', 'p3147s7', 'p3147s8', 'p3147s9', 'p3147s10', 'p3147s11', 'p3147s10a1', 'p6110', 'p6120', 'p3041', 'p3042s2', 'p3043', 'p3043s1', '50_area', '50_ft', '50_fft', '50_p6240s1', '50_p6240s2', '50_p6250', '50_p6260', '50_p6260s1', '50_p6260s1a1', '50_p6260s2', '50_p6270', '50_p6280', '50_p6290', '50_p3362s1', '50_p3362s2', '50_p3362s3', '50_p3362s4', '50_p3362s5', '50_p3362s6', '50_p3362s7', '50_p3362s8', '50_p3362s7a1', '50_p6300', '50_p6310', '50_p6310s1', '50_p6320', '50_p6330', '50_p6340', '50_p6350', '50_p6351', '60_periodo', '60_mes', '60_per', '60_hogar', '60_regis', '60_area', '60_clase', '60_fex_c18', '60_dpto', '60_ft', '60_p3044s2', '60_p6440', '60_p6450', '60_p6460', '60_p6460s1', '60_p6400', '60_p6410', '60_p6422', '60_p6420s2', '60_p6424s1', '60_p6424s2', '60_p6424s3', '60_p6424s5', '60_p6426', '60_p6430', '60_p6430s1', '60_p3045s1', '60_p3045s2', '60_p3045s3', '60_p3046', '60_p3363', '60_p9440', '60_p6500', '60_p3364', '60_p3364s1', '60_p6510', '60_p6510s1', '60_p6510s2', '60_p6590', '60_p6590s1', '60_p6600', '60_p6600s1', '60_p6610', '60_p6610s1', '60_p6620', '60_p6620s1', '60_p6585s1', '60_p6585s1a1', '60_p6585s1a2', '60_p6585s2', '60_p6585s2a1', '60_p6585s2a2', '60_p6585s3', '60_p6585s3a1', '60_p6585s3a2', '60_p6585s4', '60_p6585s4a1', '60_p6585s4a2', '60_p6545', '60_p6545s1', '60_p6545s2', '60_p6580', '60_p6580s1', '60_p6580s2', '60_p6630s1', '60_p6630s1a1', '60_p6630s2', '60_p6630s2a1', '60_p6630s3', '60_p6630s3a1', '60_p6630s4', '60_p6630s4a1', '60_p6630s6', '60_p6630s6a1', '60_p6640', '60_p6640s1', '60_p1800', '60_p1800s1', '60_p1801s1', '60_p1801s2', '60_p1801s3', '60_p1802', '60_p3047', '60_p3048', '60_p3049', '60_p6765', '60_p6765s1', '60_p3051', '60_p3051s1', '60_p3052', '60_p3052s1', '60_p3053', '60_p3365', '60_p3365s1', '60_p3054', '60_p3054s1', '60_p3055', '60_p3055s1', '60_p3056', '60_p3057', '60_p6760', '60_p3058s1', '60_p3058s2', '60_p3058s3', '60_p3058s4', '60_p3058s5', '60_p3059', '60_p3061', '60_p3062s1', '60_p3062s2', '60_p3062s3', '60_p3062s4', '60_p3062s5', '60_p3062s6', '60_p3062s7', '60_p3062s8', '60_p3062s9', '60_p3063', '60_p3063s1', '60_p3064', '60_p3064s1', '60_p3065', '60_p3066', '60_p3067', '60_p3067s1', '60_p3067s2', '60_p6775', '60_p3068', '60_p6750', '60_p3073', '60_p550', '60_p6780', '60_p6780s1', '60_p1879', '60_p1805', '60_p6790', '60_p6800', '60_p6810', '60_p6810s1', '60_p6850', '60_p6830', '60_p6830s1', '60_p3366', '60_p3069', '60_p6880', '60_p6880s1', '60_p6915', '60_p6915s1', '60_p6920', '60_p6930', '60_p6940', '60_p6960', '60_p6990', '60_p9450', '60_p7020', '60_p760', '60_p7026', '60_p7028', '60_p7028s1', '60_p1880', '60_p1880s1', '60_p7040', '60_p7045', '60_p7050', '60_p7070', '60_p7075', '60_p7077', '60_p7090', '60_p7100', '60_p7110', '60_p7120', '60_p7130', '60_p7140s1', '60_p7140s2', '60_p7140s3', '60_p7140s4', '60_p7140s5', '60_p7140s6', '60_p7140s7', '60_p7140s8', '60_p7140s9', '60_p7150', '60_p7160', '60_p7170s1', '60_p7170s5', '60_p7170s6', '60_p7180', '60_p514', '60_p515', '60_p1881', '60_p1882', '60_p7240', '60_oci', '60_inglabo', '60_rama2d_r4', '60_rama4d_r4', '60_oficio_c8', '70_periodo', '70_mes', '70_per', '70_hogar', '70_regis', '70_area', '70_clase', '70_fex_c18', '70_dpto', '70_fft', '70_dscy', '70_dsi', '70_p7250', '70_p7280', '70_p744', '70_p3074', '70_p7260', '70_p1806', '70_p7430', '70_p7440s1', '70_p7440s2', '70_p7450', '70_p7350', '70_p7360', '70_p9460', '70_p1519', '70_p1883', '70_p7422', '70_p7422s1', '70_oficio1_c8', '70_oficio2_c8', '70_rama2d_d_r4', '70_rama4d_d_r4', '70_p7440', '80_area', '80_p3076s1a1', '80_p3076s1a2', '80_p3076s2a1', '80_p3076s2a2', '80_p3076s3a1', '80_p3076s3a2', '80_p3077s1a1', '80_p3077s1a2', '80_p3077s2a1', '80_p3077s2a2', '80_p3077s3a1', '80_p3077s3a2', '80_p3078s1a1', '80_p3078s1a2', '80_p3078s2a1', '80_p3078s2a2', '80_p3078s3a1', '80_p3078s3a2', '80_p3079s1a1', '80_p3079s1a2', '80_p3079s2a1', '80_p3079s2a2', '80_p3079s3a1', '80_p3079s3a2', '80_p3081s1a1', '80_p3081s1a2', '80_p3081s2a1', '80_p3081s2a2', '80_p3081s3a1', '80_p3081s3a2', '80_p3082s1a1', '80_p3082s1a2', '80_p3082s2a1', '80_p3082s2a2', '80_p3082s3a1', '80_p3082s3a2', '80_p3083', '80_p3083s1', '80_p3084s2', '80_p3085', '80_p3086', '80_p3086s1', '80_p3087', '80_p3087s1', '80_p3088', '80_p3089s1', '80_p3089s2', '80_p3089s3', '80_p3091s1', '80_p3091s2', '80_p3092', '80_p3092s1', '80_p3092s2', '80_p3093s1', '80_p3093s2', '80_p3094s1', '80_p3094s2', '80_p3094s3', '80_p3095s1', '80_p3095s2', '80_p3095s3', '80_p3096s1', '80_p3096s2', '80_p3096s3', '80_p3097', '80_p3097s1', '80_p3097s2', '80_p3098s1', '80_p3098s2', '80_p3099s1', '80_p3099s2', '80_p3101s1', '80_p3101s2', '90_area', '90_p7500s1', '90_p7500s1a1', '90_p7500s2', '90_p7500s2a1', '90_p7500s3', '90_p7500s3a1', '90_p7510s1', '90_p7510s1a1', '90_p7510s2', '90_p7510s2a1', '90_p7510s3', '90_p7510s3a1', '90_p750s1', '90_p750s1a1', '90_p750s2', '90_p750s2a1', '90_p1661s1', '90_p1661s1a1', '90_p1661s2', '90_p1661s2a1', '90_p1661s3', '90_p1661s3a1', '90_p1661s4', '90_p1661s4a1', '90_p1661s4a2', '90_p750s3', '90_p750s3a1', '90_p7510s5', '90_p7510s5a1', '90_p7510s6', '90_p7510s6a1', '90_p7510s7', '90_p7510s7a1', '90_p3368', '90_p3369', '90_p3370s1', '90_p3371s1', '90_p3371s2', '90_p3371s3', '90_p3371s4', '90_p3372s1', '94_p3373s3a1', '94_p3373s3a2', '94_p3374s1', '94_p3374s2', '94_p3374s3', '94_p3375s1', '94_p3377', '94_p3378', '94_p3378s1', '94_p3379', '94_p3380', '94_p3381', '94_p3386', '94_p3386s1', '94_p3375', '01_p5090s1', '01_p5100', '01_p5110', '01_p5140', '01_p5222s1', '01_p5222s3', '01_p5222s4', '01_p5222s5', '01_p5222s6', '01_p5222s7', '01_p5222s8', '01_p5222s9', '01_p5222s10', '01_p5222s8a1']"
     ]
    }
   ],
   "source": [
    "nulos_row = nulos.collect()[0].asDict()\n",
    "columnas_a_eliminar = [col for col, prop in nulos_row.items() if prop > 0.4]\n",
    "\n",
    "print(\"Columnas a eliminar (más del 40% nulos):\")\n",
    "print(columnas_a_eliminar)"
   ]
  },
  {
   "cell_type": "code",
   "execution_count": 8,
   "id": "134e4a42",
   "metadata": {},
   "outputs": [
    {
     "data": {
      "application/vnd.jupyter.widget-view+json": {
       "model_id": "a492205246c540218621c65d520645bc",
       "version_major": 2,
       "version_minor": 0
      },
      "text/plain": [
       "FloatProgress(value=0.0, bar_style='info', description='Progress:', layout=Layout(height='25px', width='50%'),…"
      ]
     },
     "metadata": {},
     "output_type": "display_data"
    },
    {
     "name": "stdout",
     "output_type": "stream",
     "text": [
      "Columnas iniciales: 589\n",
      "Columnas eliminadas: 430\n",
      "Columnas finales: 159\n",
      "root\n",
      " |-- directorio: string (nullable = true)\n",
      " |-- secuencia_p: string (nullable = true)\n",
      " |-- orden: string (nullable = true)\n",
      " |-- periodo: string (nullable = true)\n",
      " |-- mes: string (nullable = true)\n",
      " |-- per: string (nullable = true)\n",
      " |-- hogar: string (nullable = true)\n",
      " |-- regis: string (nullable = true)\n",
      " |-- area: string (nullable = true)\n",
      " |-- clase: string (nullable = true)\n",
      " |-- fex_c18: string (nullable = true)\n",
      " |-- dpto: string (nullable = true)\n",
      " |-- pt: string (nullable = true)\n",
      " |-- p6016: string (nullable = true)\n",
      " |-- p3271: string (nullable = true)\n",
      " |-- p6040: string (nullable = true)\n",
      " |-- p6030s1: string (nullable = true)\n",
      " |-- p6030s3: string (nullable = true)\n",
      " |-- p6050: string (nullable = true)\n",
      " |-- p6083: string (nullable = true)\n",
      " |-- p6081: string (nullable = true)\n",
      " |-- p2057: string (nullable = true)\n",
      " |-- p2059: string (nullable = true)\n",
      " |-- p2061: string (nullable = true)\n",
      " |-- p6080: string (nullable = true)\n",
      " |-- p6070: string (nullable = true)\n",
      " |-- p6090: string (nullable = true)\n",
      " |-- p6100: string (nullable = true)\n",
      " |-- p1906s1: string (nullable = true)\n",
      " |-- p1906s2: string (nullable = true)\n",
      " |-- p1906s3: string (nullable = true)\n",
      " |-- p1906s4: string (nullable = true)\n",
      " |-- p1906s5: string (nullable = true)\n",
      " |-- p1906s6: string (nullable = true)\n",
      " |-- p1906s7: string (nullable = true)\n",
      " |-- p1906s8: string (nullable = true)\n",
      " |-- p6160: string (nullable = true)\n",
      " |-- p6170: string (nullable = true)\n",
      " |-- p3042: string (nullable = true)\n",
      " |-- p3042s1: string (nullable = true)\n",
      " |-- p3038: string (nullable = true)\n",
      " |-- p3039: string (nullable = true)\n",
      " |-- pob_may18: string (nullable = true)\n",
      " |-- 50_periodo: string (nullable = true)\n",
      " |-- 50_mes: string (nullable = true)\n",
      " |-- 50_per: string (nullable = true)\n",
      " |-- 50_hogar: string (nullable = true)\n",
      " |-- 50_regis: string (nullable = true)\n",
      " |-- 50_clase: string (nullable = true)\n",
      " |-- 50_fex_c18: string (nullable = true)\n",
      " |-- 50_dpto: string (nullable = true)\n",
      " |-- 50_pet: string (nullable = true)\n",
      " |-- 50_p6240: string (nullable = true)\n",
      " |-- 80_periodo: string (nullable = true)\n",
      " |-- 80_mes: string (nullable = true)\n",
      " |-- 80_per: string (nullable = true)\n",
      " |-- 80_hogar: string (nullable = true)\n",
      " |-- 80_regis: string (nullable = true)\n",
      " |-- 80_clase: string (nullable = true)\n",
      " |-- 80_fex_c18: string (nullable = true)\n",
      " |-- 80_dpto: string (nullable = true)\n",
      " |-- 80_p3076s1: string (nullable = true)\n",
      " |-- 80_p3076s2: string (nullable = true)\n",
      " |-- 80_p3076s3: string (nullable = true)\n",
      " |-- 80_p3077s1: string (nullable = true)\n",
      " |-- 80_p3077s2: string (nullable = true)\n",
      " |-- 80_p3077s3: string (nullable = true)\n",
      " |-- 80_p3078s1: string (nullable = true)\n",
      " |-- 80_p3078s2: string (nullable = true)\n",
      " |-- 80_p3078s3: string (nullable = true)\n",
      " |-- 80_p3079s1: string (nullable = true)\n",
      " |-- 80_p3079s2: string (nullable = true)\n",
      " |-- 80_p3079s3: string (nullable = true)\n",
      " |-- 80_p3081s1: string (nullable = true)\n",
      " |-- 80_p3081s2: string (nullable = true)\n",
      " |-- 80_p3081s3: string (nullable = true)\n",
      " |-- 80_p3082s1: string (nullable = true)\n",
      " |-- 80_p3082s2: string (nullable = true)\n",
      " |-- 80_p3082s3: string (nullable = true)\n",
      " |-- 80_p3089: string (nullable = true)\n",
      " |-- 80_p3091: string (nullable = true)\n",
      " |-- 80_p3093: string (nullable = true)\n",
      " |-- 80_p3094: string (nullable = true)\n",
      " |-- 80_p3095: string (nullable = true)\n",
      " |-- 80_p3096: string (nullable = true)\n",
      " |-- 80_p3098: string (nullable = true)\n",
      " |-- 80_p3099: string (nullable = true)\n",
      " |-- 80_p3101: string (nullable = true)\n",
      " |-- 90_periodo: string (nullable = true)\n",
      " |-- 90_mes: string (nullable = true)\n",
      " |-- 90_per: string (nullable = true)\n",
      " |-- 90_hogar: string (nullable = true)\n",
      " |-- 90_regis: string (nullable = true)\n",
      " |-- 90_clase: string (nullable = true)\n",
      " |-- 90_fex_c18: string (nullable = true)\n",
      " |-- 90_dpto: string (nullable = true)\n",
      " |-- 90_p7495: string (nullable = true)\n",
      " |-- 90_p7505: string (nullable = true)\n",
      " |-- 90_p3367: string (nullable = true)\n",
      " |-- 90_p3370: string (nullable = true)\n",
      " |-- 90_p3371: string (nullable = true)\n",
      " |-- 90_p3372: string (nullable = true)\n",
      " |-- 94_periodo: string (nullable = true)\n",
      " |-- 94_mes: string (nullable = true)\n",
      " |-- 94_per: string (nullable = true)\n",
      " |-- 94_hogar: string (nullable = true)\n",
      " |-- 94_regis: string (nullable = true)\n",
      " |-- 94_area: string (nullable = true)\n",
      " |-- 94_clase: string (nullable = true)\n",
      " |-- 94_fex_c18: string (nullable = true)\n",
      " |-- 94_dpto: string (nullable = true)\n",
      " |-- 94_p3373: string (nullable = true)\n",
      " |-- 94_p3373s1: string (nullable = true)\n",
      " |-- 94_p3373s2: string (nullable = true)\n",
      " |-- 94_p3373s3: string (nullable = true)\n",
      " |-- 94_p3374: string (nullable = true)\n",
      " |-- 94_p3376: string (nullable = true)\n",
      " |-- 94_p3382: string (nullable = true)\n",
      " |-- 94_p3382s1: string (nullable = true)\n",
      " |-- 94_p3382s2: string (nullable = true)\n",
      " |-- 94_p3382s3: string (nullable = true)\n",
      " |-- 94_p3383: string (nullable = true)\n",
      " |-- 94_p3384: string (nullable = true)\n",
      " |-- 94_p3384s1: string (nullable = true)\n",
      " |-- 94_p3384s2: string (nullable = true)\n",
      " |-- 94_p3384s3: string (nullable = true)\n",
      " |-- 94_p3385: string (nullable = true)\n",
      " |-- 01_periodo: string (nullable = true)\n",
      " |-- 01_mes: string (nullable = true)\n",
      " |-- 01_per: string (nullable = true)\n",
      " |-- 01_hogar: string (nullable = true)\n",
      " |-- 01_regis: string (nullable = true)\n",
      " |-- 01_area: string (nullable = true)\n",
      " |-- 01_clase: string (nullable = true)\n",
      " |-- 01_fex_c18: string (nullable = true)\n",
      " |-- 01_dpto: string (nullable = true)\n",
      " |-- 01_p4000: string (nullable = true)\n",
      " |-- 01_p4010: string (nullable = true)\n",
      " |-- 01_p4020: string (nullable = true)\n",
      " |-- 01_p4030s1: string (nullable = true)\n",
      " |-- 01_p4030s1a1: string (nullable = true)\n",
      " |-- 01_p4030s2: string (nullable = true)\n",
      " |-- 01_p4030s3: string (nullable = true)\n",
      " |-- 01_p4030s4: string (nullable = true)\n",
      " |-- 01_p4030s4a1: string (nullable = true)\n",
      " |-- 01_p4030s5: string (nullable = true)\n",
      " |-- 01_p70: string (nullable = true)\n",
      " |-- 01_p5000: string (nullable = true)\n",
      " |-- 01_p5010: string (nullable = true)\n",
      " |-- 01_p5020: string (nullable = true)\n",
      " |-- 01_p5030: string (nullable = true)\n",
      " |-- 01_p5040: string (nullable = true)\n",
      " |-- 01_p5050: string (nullable = true)\n",
      " |-- 01_p5070: string (nullable = true)\n",
      " |-- 01_p5080: string (nullable = true)\n",
      " |-- 01_p5090: string (nullable = true)\n",
      " |-- 01_p5130: string (nullable = true)\n",
      " |-- 01_p5222s2: string (nullable = true)\n",
      " |-- 01_p6008: string (nullable = true)"
     ]
    }
   ],
   "source": [
    "df_limpio = df_geih_2024.drop(*columnas_a_eliminar)\n",
    "\n",
    "# Validar resultados\n",
    "print(\"Columnas iniciales:\", len(df_geih_2024.columns))\n",
    "print(\"Columnas eliminadas:\", len(columnas_a_eliminar))\n",
    "print(\"Columnas finales:\", len(df_limpio.columns))\n",
    "df_limpio.printSchema()"
   ]
  },
  {
   "cell_type": "markdown",
   "id": "a3f2f7c7",
   "metadata": {},
   "source": [
    "## Columnas adicionales a eliminar"
   ]
  },
  {
   "cell_type": "code",
   "execution_count": 9,
   "id": "1ac45a7b",
   "metadata": {},
   "outputs": [
    {
     "data": {
      "application/vnd.jupyter.widget-view+json": {
       "model_id": "ecd2e26a00a141bfa10a1795ccd2255d",
       "version_major": 2,
       "version_minor": 0
      },
      "text/plain": [
       "FloatProgress(value=0.0, bar_style='info', description='Progress:', layout=Layout(height='25px', width='50%'),…"
      ]
     },
     "metadata": {},
     "output_type": "display_data"
    },
    {
     "name": "stdout",
     "output_type": "stream",
     "text": [
      "Columnas despu?s de eliminaci?n: 75\n",
      "root\n",
      " |-- directorio: string (nullable = true)\n",
      " |-- secuencia_p: string (nullable = true)\n",
      " |-- orden: string (nullable = true)\n",
      " |-- periodo: string (nullable = true)\n",
      " |-- mes: string (nullable = true)\n",
      " |-- per: string (nullable = true)\n",
      " |-- hogar: string (nullable = true)\n",
      " |-- regis: string (nullable = true)\n",
      " |-- area: string (nullable = true)\n",
      " |-- clase: string (nullable = true)\n",
      " |-- fex_c18: string (nullable = true)\n",
      " |-- dpto: string (nullable = true)\n",
      " |-- pt: string (nullable = true)\n",
      " |-- p3271: string (nullable = true)\n",
      " |-- p6040: string (nullable = true)\n",
      " |-- p6083: string (nullable = true)\n",
      " |-- p6081: string (nullable = true)\n",
      " |-- p2057: string (nullable = true)\n",
      " |-- p6080: string (nullable = true)\n",
      " |-- p6070: string (nullable = true)\n",
      " |-- p6090: string (nullable = true)\n",
      " |-- p6100: string (nullable = true)\n",
      " |-- p6160: string (nullable = true)\n",
      " |-- p6170: string (nullable = true)\n",
      " |-- p3042: string (nullable = true)\n",
      " |-- 50_periodo: string (nullable = true)\n",
      " |-- 50_mes: string (nullable = true)\n",
      " |-- 50_per: string (nullable = true)\n",
      " |-- 50_hogar: string (nullable = true)\n",
      " |-- 50_regis: string (nullable = true)\n",
      " |-- 50_clase: string (nullable = true)\n",
      " |-- 50_fex_c18: string (nullable = true)\n",
      " |-- 50_dpto: string (nullable = true)\n",
      " |-- 50_pet: string (nullable = true)\n",
      " |-- 50_p6240: string (nullable = true)\n",
      " |-- 80_periodo: string (nullable = true)\n",
      " |-- 80_mes: string (nullable = true)\n",
      " |-- 80_per: string (nullable = true)\n",
      " |-- 80_hogar: string (nullable = true)\n",
      " |-- 80_regis: string (nullable = true)\n",
      " |-- 80_clase: string (nullable = true)\n",
      " |-- 80_fex_c18: string (nullable = true)\n",
      " |-- 80_dpto: string (nullable = true)\n",
      " |-- 90_periodo: string (nullable = true)\n",
      " |-- 90_mes: string (nullable = true)\n",
      " |-- 90_per: string (nullable = true)\n",
      " |-- 90_hogar: string (nullable = true)\n",
      " |-- 90_regis: string (nullable = true)\n",
      " |-- 90_clase: string (nullable = true)\n",
      " |-- 90_fex_c18: string (nullable = true)\n",
      " |-- 90_dpto: string (nullable = true)\n",
      " |-- 90_p7495: string (nullable = true)\n",
      " |-- 90_p7505: string (nullable = true)\n",
      " |-- 90_p3367: string (nullable = true)\n",
      " |-- 94_periodo: string (nullable = true)\n",
      " |-- 94_mes: string (nullable = true)\n",
      " |-- 94_per: string (nullable = true)\n",
      " |-- 94_hogar: string (nullable = true)\n",
      " |-- 94_regis: string (nullable = true)\n",
      " |-- 94_area: string (nullable = true)\n",
      " |-- 94_clase: string (nullable = true)\n",
      " |-- 94_fex_c18: string (nullable = true)\n",
      " |-- 94_dpto: string (nullable = true)\n",
      " |-- 94_p3374: string (nullable = true)\n",
      " |-- 01_periodo: string (nullable = true)\n",
      " |-- 01_mes: string (nullable = true)\n",
      " |-- 01_per: string (nullable = true)\n",
      " |-- 01_hogar: string (nullable = true)\n",
      " |-- 01_regis: string (nullable = true)\n",
      " |-- 01_area: string (nullable = true)\n",
      " |-- 01_clase: string (nullable = true)\n",
      " |-- 01_fex_c18: string (nullable = true)\n",
      " |-- 01_dpto: string (nullable = true)\n",
      " |-- 01_p5222s2: string (nullable = true)\n",
      " |-- 01_p6008: string (nullable = true)"
     ]
    }
   ],
   "source": [
    "# Lista de columnas a eliminar\n",
    "columnas_del = [\n",
    "    \"p6016\", \"p6030s1\", \"p6030s3\", \"p6050\", \"p2059\", \"p2061\",\n",
    "    \"p1906s1\", \"p1906s2\", \"p1906s3\", \"p1906s4\", \"p1906s5\", \"p1906s6\", \"p1906s7\", \"p1906s8\",\n",
    "    \"p3042s1\", \"p3038\", \"p3039\", \"pob_may18\",\n",
    "    \"80_p3076s1\", \"80_p3076s2\", \"80_p3076s3\", \"80_p3077s1\", \"80_p3077s2\", \"80_p3077s3\",\n",
    "    \"80_p3078s1\", \"80_p3078s2\", \"80_p3078s3\", \"80_p3079s1\", \"80_p3079s2\", \"80_p3079s3\",\n",
    "    \"80_p3081s1\", \"80_p3081s2\", \"80_p3081s3\", \"80_p3082s1\", \"80_p3082s2\", \"80_p3082s3\",\n",
    "    \"80_p3089\", \"80_p3091\", \"80_p3093\", \"80_p3094\", \"80_p3095\", \"80_p3096\", \"80_p3098\", \"80_p3099\", \"80_p3101\",\n",
    "    \"90_p3370\", \"90_p3371\", \"90_p3372\",\n",
    "    \"94_p3373\", \"94_p3373s1\", \"94_p3373s2\", \"94_p3373s3\", \"94_p3376\", \n",
    "    \"94_p3382\", \"94_p3382s1\", \"94_p3382s2\", \"94_p3382s3\", \"94_p3383\",\n",
    "    \"94_p3384\", \"94_p3384s1\", \"94_p3384s2\", \"94_p3384s3\", \"94_p3385\",\n",
    "    \"01_p4000\", \"01_p4010\", \"01_p4020\", \"01_p4030s1\", \"01_p4030s1a1\", \"01_p4030s2\", \n",
    "    \"01_p4030s3\", \"01_p4030s4\", \"01_p4030s4a1\", \"01_p4030s5\",\n",
    "    \"01_p70\", \"01_p5000\", \"01_p5010\", \"01_p5020\", \"01_p5040\", \"01_p5050\", \n",
    "    \"01_p5070\", \"01_p5080\", \"01_p5090\", \"01_p5130\", \"01_p5030\"\n",
    "]\n",
    "\n",
    "# Eliminar las columnas del DataFrame\n",
    "df_limpio = df_limpio.drop(*columnas_del)\n",
    "\n",
    "# Confirmar cantidad de columnas después de eliminación\n",
    "print(f\"Columnas después de eliminación: {len(df_limpio.columns)}\")\n",
    "df_limpio.printSchema()"
   ]
  },
  {
   "cell_type": "code",
   "execution_count": 10,
   "id": "d326738b",
   "metadata": {},
   "outputs": [
    {
     "data": {
      "application/vnd.jupyter.widget-view+json": {
       "model_id": "3bce5d1839414d3fa7010f0aeaf42f90",
       "version_major": 2,
       "version_minor": 0
      },
      "text/plain": [
       "FloatProgress(value=0.0, bar_style='info', description='Progress:', layout=Layout(height='25px', width='50%'),…"
      ]
     },
     "metadata": {},
     "output_type": "display_data"
    },
    {
     "name": "stdout",
     "output_type": "stream",
     "text": [
      "Total de columnas despu?s de consolidar variables duplicadas: 33\n",
      "root\n",
      " |-- directorio: string (nullable = true)\n",
      " |-- secuencia_p: string (nullable = true)\n",
      " |-- orden: string (nullable = true)\n",
      " |-- periodo: string (nullable = true)\n",
      " |-- mes: string (nullable = true)\n",
      " |-- per: string (nullable = true)\n",
      " |-- hogar: string (nullable = true)\n",
      " |-- regis: string (nullable = true)\n",
      " |-- area: string (nullable = true)\n",
      " |-- clase: string (nullable = true)\n",
      " |-- fex_c18: string (nullable = true)\n",
      " |-- dpto: string (nullable = true)\n",
      " |-- pt: string (nullable = true)\n",
      " |-- p3271: string (nullable = true)\n",
      " |-- p6040: string (nullable = true)\n",
      " |-- p6083: string (nullable = true)\n",
      " |-- p6081: string (nullable = true)\n",
      " |-- p2057: string (nullable = true)\n",
      " |-- p6080: string (nullable = true)\n",
      " |-- p6070: string (nullable = true)\n",
      " |-- p6090: string (nullable = true)\n",
      " |-- p6100: string (nullable = true)\n",
      " |-- p6160: string (nullable = true)\n",
      " |-- p6170: string (nullable = true)\n",
      " |-- p3042: string (nullable = true)\n",
      " |-- 50_pet: string (nullable = true)\n",
      " |-- 50_p6240: string (nullable = true)\n",
      " |-- 90_p7495: string (nullable = true)\n",
      " |-- 90_p7505: string (nullable = true)\n",
      " |-- 90_p3367: string (nullable = true)\n",
      " |-- 94_p3374: string (nullable = true)\n",
      " |-- 01_p5222s2: string (nullable = true)\n",
      " |-- 01_p6008: string (nullable = true)"
     ]
    }
   ],
   "source": [
    "# Listas de columnas redundantes por módulo\n",
    "columnas_redundantes = [\n",
    "    # periodo, mes, per\n",
    "    \"50_periodo\", \"80_periodo\", \"90_periodo\", \"94_periodo\", \"01_periodo\",\n",
    "    \"50_mes\", \"80_mes\", \"90_mes\", \"94_mes\", \"01_mes\",\n",
    "    \"50_per\", \"80_per\", \"90_per\", \"94_per\", \"01_per\",\n",
    "    \n",
    "    # hogar, regis, clase, dpto, fex_c18\n",
    "    \"50_hogar\", \"80_hogar\", \"90_hogar\", \"94_hogar\", \"01_hogar\",\n",
    "    \"50_regis\", \"80_regis\", \"90_regis\", \"94_regis\", \"01_regis\",\n",
    "    \"50_clase\", \"80_clase\", \"90_clase\", \"94_clase\", \"01_clase\",\n",
    "    \"50_dpto\", \"80_dpto\", \"90_dpto\", \"94_dpto\", \"01_dpto\",\n",
    "    \"50_fex_c18\", \"80_fex_c18\", \"90_fex_c18\", \"94_fex_c18\", \"01_fex_c18\",\n",
    "    \n",
    "    # otros duplicados por módulo\n",
    "    \"94_area\", \"01_area\"\n",
    "]\n",
    "\n",
    "# Eliminar columnas redundantes\n",
    "df_depurado = df_limpio.drop(*columnas_redundantes)\n",
    "\n",
    "# Confirmar estructura\n",
    "print(f\"Total de columnas después de consolidar variables duplicadas: {len(df_depurado.columns)}\")\n",
    "df_depurado.printSchema()"
   ]
  },
  {
   "cell_type": "markdown",
   "id": "ceac90d7",
   "metadata": {},
   "source": [
    "## Imputación de datos y transformaciones"
   ]
  },
  {
   "cell_type": "code",
   "execution_count": 11,
   "id": "92a28a80",
   "metadata": {},
   "outputs": [
    {
     "data": {
      "application/vnd.jupyter.widget-view+json": {
       "model_id": "ad9f15f277db4113b637b025e4643f16",
       "version_major": 2,
       "version_minor": 0
      },
      "text/plain": [
       "FloatProgress(value=0.0, bar_style='info', description='Progress:', layout=Layout(height='25px', width='50%'),…"
      ]
     },
     "metadata": {},
     "output_type": "display_data"
    },
    {
     "name": "stdout",
     "output_type": "stream",
     "text": [
      "+-----------+-------------------+\n",
      "|columna    |proporcion_nulos   |\n",
      "+-----------+-------------------+\n",
      "|01_p5222s2 |0.32836758135336025|\n",
      "|area       |0.2788703637413325 |\n",
      "|50_pet     |0.2071634588149932 |\n",
      "|50_p6240   |0.2071634588149932 |\n",
      "|90_p7495   |0.2071634588149932 |\n",
      "|90_p7505   |0.2071634588149932 |\n",
      "|90_p3367   |0.2071634588149932 |\n",
      "|p6070      |0.1289034486665389 |\n",
      "|p6100      |0.03877384495042082|\n",
      "|p6160      |0.03148069804973707|\n",
      "|p6170      |0.03148069804973707|\n",
      "|p3042      |0.03148069804973707|\n",
      "|directorio |0.0                |\n",
      "|secuencia_p|0.0                |\n",
      "|orden      |0.0                |\n",
      "|periodo    |0.0                |\n",
      "|mes        |0.0                |\n",
      "|per        |0.0                |\n",
      "|hogar      |0.0                |\n",
      "|regis      |0.0                |\n",
      "|clase      |0.0                |\n",
      "|fex_c18    |0.0                |\n",
      "|dpto       |0.0                |\n",
      "|pt         |0.0                |\n",
      "|p3271      |0.0                |\n",
      "|p6040      |0.0                |\n",
      "|p6083      |0.0                |\n",
      "|p6081      |0.0                |\n",
      "|p2057      |0.0                |\n",
      "|p6080      |0.0                |\n",
      "|p6090      |0.0                |\n",
      "|94_p3374   |0.0                |\n",
      "|01_p6008   |0.0                |\n",
      "+-----------+-------------------+"
     ]
    }
   ],
   "source": [
    "from pyspark.sql.functions import col, count, when, isnan, lit\n",
    "\n",
    "# Total de filas del DataFrame\n",
    "total_filas = df_depurado.count()\n",
    "\n",
    "# Crear lista con proporción de nulos por columna\n",
    "nulos_df = df_depurado.select([\n",
    "    (count(when(col(c).isNull() | isnan(c) | (col(c) == ''), c)) / total_filas).alias(c)\n",
    "    for c in df_depurado.columns\n",
    "])\n",
    "\n",
    "# Transponer el DataFrame de nulos para visualizarlo mejor\n",
    "nulos_por_columna = (\n",
    "    nulos_df.selectExpr(\"stack(\" + str(len(nulos_df.columns)) + \",\" +\n",
    "                        \",\".join([f\"'{c}', `{c}`\" for c in nulos_df.columns]) + \") as (columna, proporcion_nulos)\")\n",
    "    .orderBy(col(\"proporcion_nulos\").desc())\n",
    ")\n",
    "\n",
    "# Mostrar resultado\n",
    "nulos_por_columna.show(n=50, truncate=False)"
   ]
  },
  {
   "cell_type": "code",
   "execution_count": 12,
   "id": "cb8c5d0a",
   "metadata": {},
   "outputs": [
    {
     "data": {
      "application/vnd.jupyter.widget-view+json": {
       "model_id": "c3bcb4cca68c4e23839668c5a2c797d2",
       "version_major": 2,
       "version_minor": 0
      },
      "text/plain": [
       "FloatProgress(value=0.0, bar_style='info', description='Progress:', layout=Layout(height='25px', width='50%'),…"
      ]
     },
     "metadata": {},
     "output_type": "display_data"
    },
    {
     "name": "stdout",
     "output_type": "stream",
     "text": [
      "+----------+-----------+-----+-------+---+---+-----+-----+------------------+-----+-------+----+---+-----+-----+-----+-----+-----+-----+-----+-----+-----+-----+-----+-----+------------------+--------+--------+--------+--------+--------+----------+--------+\n",
      "|directorio|secuencia_p|orden|periodo|mes|per|hogar|regis|area              |clase|fex_c18|dpto|pt |p3271|p6040|p6083|p6081|p2057|p6080|p6070|p6090|p6100|p6160|p6170|p3042|50_pet            |50_p6240|90_p7495|90_p7505|90_p3367|94_p3374|01_p5222s2|01_p6008|\n",
      "+----------+-----------+-----+-------+---+---+-----+-----+------------------+-----+-------+----+---+-----+-----+-----+-----+-----+-----+-----+-----+-----+-----+-----+-----+------------------+--------+--------+--------+--------+--------+----------+--------+\n",
      "|0.0       |0.0        |0.0  |0.0    |0.0|0.0|0.0  |0.0  |0.2788703637413325|0.0  |0.0    |0.0 |0.0|0.0  |0.0  |0.0  |0.0  |0.0  |0.0  |0.0  |0.0  |0.0  |0.0  |0.0  |0.0  |0.2071634588149932|0.0     |0.0     |0.0     |0.0     |0.0     |0.0       |0.0     |\n",
      "+----------+-----------+-----+-------+---+---+-----+-----+------------------+-----+-------+----+---+-----+-----+-----+-----+-----+-----+-----+-----+-----+-----+-----+-----+------------------+--------+--------+--------+--------+--------+----------+--------+"
     ]
    }
   ],
   "source": [
    "from pyspark.sql.functions import col, when, count, isnan, lit, desc\n",
    "\n",
    "# Variables binarias codificadas como 1 (Sí) y 2 (No)\n",
    "variables_binarias = [\n",
    "    \"p6083\", \"p6081\", \"p2057\", \"p6090\", \"p6160\", \"p6170\", \"01_p5222s2\", \"90_p7495\",\n",
    "    \"90_p7505\", \"90_p3367\", \"p3271\"\n",
    "]\n",
    "\n",
    "# Imputar nulos en variables binarias con 2 (No)\n",
    "for col_name in variables_binarias:\n",
    "    df_depurado = df_depurado.withColumn(\n",
    "        col_name,\n",
    "        when(col(col_name).isNull(), lit(\"2\")).otherwise(col(col_name))\n",
    "    )\n",
    "\n",
    "# Variables categóricas para imputación con la moda\n",
    "variables_categoricas = [\"p6070\", \"p6100\", \"p3042\", \"94_p3374\", \"50_p6240\"]\n",
    "\n",
    "# Imputar nulos en variables categóricas con la moda\n",
    "for var in variables_categoricas:\n",
    "    moda = (\n",
    "        df_depurado.groupBy(var)\n",
    "        .agg(count(\"*\").alias(\"frecuencia\"))\n",
    "        .orderBy(desc(\"frecuencia\"))\n",
    "        .filter(col(var).isNotNull())\n",
    "        .limit(1)\n",
    "        .collect()[0][0]\n",
    "    )\n",
    "    df_depurado = df_depurado.withColumn(\n",
    "        var,\n",
    "        when(col(var).isNull(), lit(moda)).otherwise(col(var))\n",
    "    )\n",
    "\n",
    "# Verificar proporción de nulos después de imputación\n",
    "total = df_depurado.count()\n",
    "proporcion_nulos = df_depurado.select([\n",
    "    (count(when(col(c).isNull() | isnan(c), c)) / total).alias(c)\n",
    "    for c in df_depurado.columns\n",
    "])\n",
    "\n",
    "proporcion_nulos.show(truncate=False)"
   ]
  },
  {
   "cell_type": "code",
   "execution_count": 13,
   "id": "aae23380",
   "metadata": {},
   "outputs": [
    {
     "data": {
      "application/vnd.jupyter.widget-view+json": {
       "model_id": "ed7bf1df8a10418d9c4caa8750338d0a",
       "version_major": 2,
       "version_minor": 0
      },
      "text/plain": [
       "FloatProgress(value=0.0, bar_style='info', description='Progress:', layout=Layout(height='25px', width='50%'),…"
      ]
     },
     "metadata": {},
     "output_type": "display_data"
    },
    {
     "name": "stdout",
     "output_type": "stream",
     "text": [
      "root\n",
      " |-- directorio: string (nullable = true)\n",
      " |-- secuencia_p: string (nullable = true)\n",
      " |-- orden: string (nullable = true)\n",
      " |-- periodo: string (nullable = true)\n",
      " |-- mes: string (nullable = true)\n",
      " |-- per: string (nullable = true)\n",
      " |-- hogar: string (nullable = true)\n",
      " |-- regis: string (nullable = true)\n",
      " |-- area: string (nullable = true)\n",
      " |-- clase: string (nullable = true)\n",
      " |-- fex_c18: string (nullable = true)\n",
      " |-- dpto: string (nullable = true)\n",
      " |-- pt: string (nullable = true)\n",
      " |-- p3271: string (nullable = true)\n",
      " |-- p6040: string (nullable = true)\n",
      " |-- p6083: string (nullable = true)\n",
      " |-- p6081: string (nullable = true)\n",
      " |-- p2057: string (nullable = true)\n",
      " |-- p6080: string (nullable = true)\n",
      " |-- p6070: string (nullable = true)\n",
      " |-- p6090: string (nullable = true)\n",
      " |-- p6100: string (nullable = true)\n",
      " |-- p6160: string (nullable = true)\n",
      " |-- p6170: string (nullable = true)\n",
      " |-- p3042: string (nullable = true)\n",
      " |-- 50_pet: string (nullable = true)\n",
      " |-- 50_p6240: string (nullable = true)\n",
      " |-- 90_p7495: string (nullable = true)\n",
      " |-- 90_p7505: string (nullable = true)\n",
      " |-- 90_p3367: string (nullable = true)\n",
      " |-- 94_p3374: string (nullable = true)\n",
      " |-- 01_p5222s2: string (nullable = true)\n",
      " |-- 01_p6008: string (nullable = true)\n",
      "\n",
      "+----------+-----------+-----+--------+---+----+-----+-----+----+-----+------------+----+---+-----+-----+-----+-----+-----+-----+-----+-----+-----+-----+-----+-----+------+--------+--------+--------+--------+--------+----------+--------+\n",
      "|directorio|secuencia_p|orden|periodo |mes|per |hogar|regis|area|clase|fex_c18     |dpto|pt |p3271|p6040|p6083|p6081|p2057|p6080|p6070|p6090|p6100|p6160|p6170|p3042|50_pet|50_p6240|90_p7495|90_p7505|90_p3367|94_p3374|01_p5222s2|01_p6008|\n",
      "+----------+-----------+-----+--------+---+----+-----+-----+----+-----+------------+----+---+-----+-----+-----+-----+-----+-----+-----+-----+-----+-----+-----+-----+------+--------+--------+--------+--------+--------+----------+--------+\n",
      "|7973138   |1          |3    |20240939|09 |2024|1    |10   |null|1    |2250.8851093|25  |1  |2    |34   |3    |3    |1    |1    |2    |2    |3    |1    |2    |1    |1     |4       |2       |2       |2       |3       |2         |3       |\n",
      "|7973139   |1          |1    |20240939|09 |2024|1    |10   |null|1    |1904.8192395|25  |1  |2    |37   |2    |2    |1    |6    |2    |1    |3    |1    |2    |4    |1     |1       |2       |2       |2       |1       |2         |3       |\n",
      "|7973139   |1          |2    |20240939|09 |2024|1    |10   |null|1    |1904.8192395|25  |1  |2    |16   |1    |2    |1    |6    |6    |1    |3    |1    |1    |4    |1     |3       |2       |2       |2       |1       |2         |3       |\n",
      "|7973139   |1          |3    |20240939|09 |2024|1    |10   |null|1    |1904.8192395|25  |1  |2    |15   |1    |2    |1    |6    |6    |1    |3    |1    |1    |4    |1     |3       |2       |2       |2       |1       |2         |3       |\n",
      "|7973140   |1          |1    |20240939|09 |2024|1    |10   |null|1    |1702.3306192|25  |1  |1    |46   |2    |3    |1    |6    |2    |1    |1    |1    |2    |10   |1     |1       |2       |2       |2       |1       |2         |3       |\n",
      "|7973140   |1          |2    |20240939|09 |2024|1    |10   |null|1    |1702.3306192|25  |1  |2    |49   |2    |2    |2    |6    |2    |1    |1    |1    |2    |10   |1     |1       |2       |2       |2       |1       |2         |3       |\n",
      "|7973140   |1          |3    |20240939|09 |2024|1    |10   |null|1    |1702.3306192|25  |1  |2    |16   |1    |1    |1    |6    |6    |1    |1    |1    |1    |5    |1     |3       |2       |2       |2       |1       |2         |3       |\n",
      "|7973141   |1          |1    |20240939|09 |2024|1    |10   |null|2    |2539.7807564|25  |1  |1    |46   |3    |3    |1    |6    |4    |1    |3    |1    |2    |5    |1     |1       |2       |2       |2       |1       |1         |2       |\n",
      "|7973141   |1          |2    |20240939|09 |2024|1    |10   |null|2    |2539.7807564|25  |1  |1    |50   |3    |3    |1    |6    |6    |1    |3    |1    |2    |5    |1     |1       |2       |2       |2       |1       |1         |2       |\n",
      "|7973142   |1          |1    |20240939|09 |2024|1    |10   |null|2    |1510.7473191|25  |1  |2    |90   |3    |3    |1    |6    |5    |1    |1    |1    |2    |3    |1     |6       |2       |2       |2       |1       |2         |3       |\n",
      "+----------+-----------+-----+--------+---+----+-----+-----+----+-----+------------+----+---+-----+-----+-----+-----+-----+-----+-----+-----+-----+-----+-----+-----+------+--------+--------+--------+--------+--------+----------+--------+\n",
      "only showing top 10 rows"
     ]
    }
   ],
   "source": [
    "# Mostrar tipos de datos\n",
    "df_depurado.printSchema()\n",
    "\n",
    "# Ver muestra de los datos\n",
    "df_depurado.show(10, truncate=False)"
   ]
  },
  {
   "cell_type": "code",
   "execution_count": 14,
   "id": "6c650a73",
   "metadata": {},
   "outputs": [
    {
     "data": {
      "application/vnd.jupyter.widget-view+json": {
       "model_id": "e507eb4910074c1c82b6e7521cb47882",
       "version_major": 2,
       "version_minor": 0
      },
      "text/plain": [
       "FloatProgress(value=0.0, bar_style='info', description='Progress:', layout=Layout(height='25px', width='50%'),…"
      ]
     },
     "metadata": {},
     "output_type": "display_data"
    }
   ],
   "source": [
    "from pyspark.sql.functions import when, col\n",
    "from pyspark.sql.types import DoubleType\n",
    "\n",
    "# Convertir columnas a tipo Double para facilitar el tratamiento\n",
    "columnas_convertir = [\n",
    "    \"p3271\", \"p6040\", \"p6083\", \"p6081\", \"p2057\", \"p6080\", \"p6070\",\n",
    "    \"p6090\", \"p6100\", \"p6160\", \"p6170\", \"p3042\", \"50_p6240\",\n",
    "    \"90_p7495\", \"90_p7505\", \"90_p3367\", \"94_p3374\", \"01_p5222s2\", \"01_p6008\"\n",
    "]\n",
    "for col_name in columnas_convertir:\n",
    "    df_depurado = df_depurado.withColumn(col_name, col(col_name).cast(DoubleType()))\n",
    "\n",
    "# Variables binarias (donde 1 = sí, 2 = no, 9 = no informa)\n",
    "binarias = [\"p3271\", \"p6083\", \"p6081\", \"p6080\", \"p6100\", \"p2057\", \"p6160\", \"p6170\", \"01_p5222s2\", \"p6090\", \"90_p3367\"]\n",
    "for col_name in [\"p3271\", \"p6083\", \"p6081\", \"p2057\", \"p6090\", \"01_p5222s2\", \"90_p3367\"]:\n",
    "    df_depurado = df_depurado.withColumn(\n",
    "        f\"{col_name}_bin\",\n",
    "        when(col(col_name) == 1, 1).when(col(col_name) == 2, 0).otherwise(None)\n",
    "    )\n",
    "\n",
    "# Variables categóricas nominales - aplicar one-hot encoding manual\n",
    "categoricas_nominales = {\n",
    "    \"p6080\": [1, 2, 3, 4, 5, 6],\n",
    "    \"p6070\": [1, 2, 3, 4, 5, 6],\n",
    "    \"p6100\": [1, 2, 3, 4],\n",
    "    \"50_p6240\": [1, 2, 3, 4, 5, 6],\n",
    "}\n",
    "\n",
    "for col_name, categorias in categoricas_nominales.items():\n",
    "    for cat in categorias:\n",
    "        df_depurado = df_depurado.withColumn(\n",
    "            f\"{col_name}_{cat}\",\n",
    "            when(col(col_name) == cat, 1).otherwise(0)\n",
    "        )\n",
    "\n",
    "# Variable ordinal: nivel educativo\n",
    "df_depurado = df_depurado.withColumn(\n",
    "    \"p3042_ord\",\n",
    "    when(col(\"p3042\") == 99, None).otherwise(col(\"p3042\"))\n",
    ")"
   ]
  },
  {
   "cell_type": "code",
   "execution_count": 15,
   "id": "51a48ce5",
   "metadata": {},
   "outputs": [
    {
     "data": {
      "application/vnd.jupyter.widget-view+json": {
       "model_id": "13f61489d52e40aabaa3defd8a3ea6fe",
       "version_major": 2,
       "version_minor": 0
      },
      "text/plain": [
       "FloatProgress(value=0.0, bar_style='info', description='Progress:', layout=Layout(height='25px', width='50%'),…"
      ]
     },
     "metadata": {},
     "output_type": "display_data"
    },
    {
     "name": "stdout",
     "output_type": "stream",
     "text": [
      "root\n",
      " |-- directorio: string (nullable = true)\n",
      " |-- secuencia_p: string (nullable = true)\n",
      " |-- orden: string (nullable = true)\n",
      " |-- periodo: string (nullable = true)\n",
      " |-- mes: string (nullable = true)\n",
      " |-- per: string (nullable = true)\n",
      " |-- hogar: string (nullable = true)\n",
      " |-- regis: string (nullable = true)\n",
      " |-- area: string (nullable = true)\n",
      " |-- clase: string (nullable = true)\n",
      " |-- fex_c18: string (nullable = true)\n",
      " |-- dpto: string (nullable = true)\n",
      " |-- pt: string (nullable = true)\n",
      " |-- p3271: double (nullable = true)\n",
      " |-- p6040: double (nullable = true)\n",
      " |-- p6083: double (nullable = true)\n",
      " |-- p6081: double (nullable = true)\n",
      " |-- p2057: double (nullable = true)\n",
      " |-- p6080: double (nullable = true)\n",
      " |-- p6070: double (nullable = true)\n",
      " |-- p6090: double (nullable = true)\n",
      " |-- p6100: double (nullable = true)\n",
      " |-- p6160: double (nullable = true)\n",
      " |-- p6170: double (nullable = true)\n",
      " |-- p3042: double (nullable = true)\n",
      " |-- 50_pet: string (nullable = true)\n",
      " |-- 50_p6240: double (nullable = true)\n",
      " |-- 90_p7495: double (nullable = true)\n",
      " |-- 90_p7505: double (nullable = true)\n",
      " |-- 90_p3367: double (nullable = true)\n",
      " |-- 94_p3374: double (nullable = true)\n",
      " |-- 01_p5222s2: double (nullable = true)\n",
      " |-- 01_p6008: double (nullable = true)\n",
      " |-- p3271_bin: integer (nullable = true)\n",
      " |-- p6083_bin: integer (nullable = true)\n",
      " |-- p6081_bin: integer (nullable = true)\n",
      " |-- p2057_bin: integer (nullable = true)\n",
      " |-- p6090_bin: integer (nullable = true)\n",
      " |-- 01_p5222s2_bin: integer (nullable = true)\n",
      " |-- 90_p3367_bin: integer (nullable = true)\n",
      " |-- p6080_1: integer (nullable = false)\n",
      " |-- p6080_2: integer (nullable = false)\n",
      " |-- p6080_3: integer (nullable = false)\n",
      " |-- p6080_4: integer (nullable = false)\n",
      " |-- p6080_5: integer (nullable = false)\n",
      " |-- p6080_6: integer (nullable = false)\n",
      " |-- p6070_1: integer (nullable = false)\n",
      " |-- p6070_2: integer (nullable = false)\n",
      " |-- p6070_3: integer (nullable = false)\n",
      " |-- p6070_4: integer (nullable = false)\n",
      " |-- p6070_5: integer (nullable = false)\n",
      " |-- p6070_6: integer (nullable = false)\n",
      " |-- p6100_1: integer (nullable = false)\n",
      " |-- p6100_2: integer (nullable = false)\n",
      " |-- p6100_3: integer (nullable = false)\n",
      " |-- p6100_4: integer (nullable = false)\n",
      " |-- 50_p6240_1: integer (nullable = false)\n",
      " |-- 50_p6240_2: integer (nullable = false)\n",
      " |-- 50_p6240_3: integer (nullable = false)\n",
      " |-- 50_p6240_4: integer (nullable = false)\n",
      " |-- 50_p6240_5: integer (nullable = false)\n",
      " |-- 50_p6240_6: integer (nullable = false)\n",
      " |-- p3042_ord: double (nullable = true)\n",
      "\n",
      "+----------+-----------+-----+--------+---+----+-----+-----+----+-----+------------+----+---+-----+-----+-----+-----+-----+-----+-----+-----+-----+-----+-----+-----+------+--------+--------+--------+--------+--------+----------+--------+---------+---------+---------+---------+---------+--------------+------------+-------+-------+-------+-------+-------+-------+-------+-------+-------+-------+-------+-------+-------+-------+-------+-------+----------+----------+----------+----------+----------+----------+---------+\n",
      "|directorio|secuencia_p|orden|periodo |mes|per |hogar|regis|area|clase|fex_c18     |dpto|pt |p3271|p6040|p6083|p6081|p2057|p6080|p6070|p6090|p6100|p6160|p6170|p3042|50_pet|50_p6240|90_p7495|90_p7505|90_p3367|94_p3374|01_p5222s2|01_p6008|p3271_bin|p6083_bin|p6081_bin|p2057_bin|p6090_bin|01_p5222s2_bin|90_p3367_bin|p6080_1|p6080_2|p6080_3|p6080_4|p6080_5|p6080_6|p6070_1|p6070_2|p6070_3|p6070_4|p6070_5|p6070_6|p6100_1|p6100_2|p6100_3|p6100_4|50_p6240_1|50_p6240_2|50_p6240_3|50_p6240_4|50_p6240_5|50_p6240_6|p3042_ord|\n",
      "+----------+-----------+-----+--------+---+----+-----+-----+----+-----+------------+----+---+-----+-----+-----+-----+-----+-----+-----+-----+-----+-----+-----+-----+------+--------+--------+--------+--------+--------+----------+--------+---------+---------+---------+---------+---------+--------------+------------+-------+-------+-------+-------+-------+-------+-------+-------+-------+-------+-------+-------+-------+-------+-------+-------+----------+----------+----------+----------+----------+----------+---------+\n",
      "|7973138   |1          |3    |20240939|09 |2024|1    |10   |null|1    |2250.8851093|25  |1  |2.0  |34.0 |3.0  |3.0  |1.0  |1.0  |2.0  |2.0  |3.0  |1.0  |2.0  |1.0  |1     |4.0     |2.0     |2.0     |2.0     |3.0     |2.0       |3.0     |0        |null     |null     |1        |0        |0             |0           |1      |0      |0      |0      |0      |0      |0      |1      |0      |0      |0      |0      |0      |0      |1      |0      |0         |0         |0         |1         |0         |0         |1.0      |\n",
      "|7973139   |1          |1    |20240939|09 |2024|1    |10   |null|1    |1904.8192395|25  |1  |2.0  |37.0 |2.0  |2.0  |1.0  |6.0  |2.0  |1.0  |3.0  |1.0  |2.0  |4.0  |1     |1.0     |2.0     |2.0     |2.0     |1.0     |2.0       |3.0     |0        |0        |0        |1        |1        |0             |0           |0      |0      |0      |0      |0      |1      |0      |1      |0      |0      |0      |0      |0      |0      |1      |0      |1         |0         |0         |0         |0         |0         |4.0      |\n",
      "|7973139   |1          |2    |20240939|09 |2024|1    |10   |null|1    |1904.8192395|25  |1  |2.0  |16.0 |1.0  |2.0  |1.0  |6.0  |6.0  |1.0  |3.0  |1.0  |1.0  |4.0  |1     |3.0     |2.0     |2.0     |2.0     |1.0     |2.0       |3.0     |0        |1        |0        |1        |1        |0             |0           |0      |0      |0      |0      |0      |1      |0      |0      |0      |0      |0      |1      |0      |0      |1      |0      |0         |0         |1         |0         |0         |0         |4.0      |\n",
      "|7973139   |1          |3    |20240939|09 |2024|1    |10   |null|1    |1904.8192395|25  |1  |2.0  |15.0 |1.0  |2.0  |1.0  |6.0  |6.0  |1.0  |3.0  |1.0  |1.0  |4.0  |1     |3.0     |2.0     |2.0     |2.0     |1.0     |2.0       |3.0     |0        |1        |0        |1        |1        |0             |0           |0      |0      |0      |0      |0      |1      |0      |0      |0      |0      |0      |1      |0      |0      |1      |0      |0         |0         |1         |0         |0         |0         |4.0      |\n",
      "|7973140   |1          |1    |20240939|09 |2024|1    |10   |null|1    |1702.3306192|25  |1  |1.0  |46.0 |2.0  |3.0  |1.0  |6.0  |2.0  |1.0  |1.0  |1.0  |2.0  |10.0 |1     |1.0     |2.0     |2.0     |2.0     |1.0     |2.0       |3.0     |1        |0        |null     |1        |1        |0             |0           |0      |0      |0      |0      |0      |1      |0      |1      |0      |0      |0      |0      |1      |0      |0      |0      |1         |0         |0         |0         |0         |0         |10.0     |\n",
      "+----------+-----------+-----+--------+---+----+-----+-----+----+-----+------------+----+---+-----+-----+-----+-----+-----+-----+-----+-----+-----+-----+-----+-----+------+--------+--------+--------+--------+--------+----------+--------+---------+---------+---------+---------+---------+--------------+------------+-------+-------+-------+-------+-------+-------+-------+-------+-------+-------+-------+-------+-------+-------+-------+-------+----------+----------+----------+----------+----------+----------+---------+\n",
      "only showing top 5 rows"
     ]
    }
   ],
   "source": [
    "# Mostrar tipos de datos\n",
    "df_depurado.printSchema()\n",
    "\n",
    "# Ver muestra de los datos\n",
    "df_depurado.show(5, truncate=False)"
   ]
  },
  {
   "cell_type": "markdown",
   "id": "e1dfdec7",
   "metadata": {},
   "source": [
    "## Creación de variable objetivo: INFORMAL"
   ]
  },
  {
   "cell_type": "code",
   "execution_count": 16,
   "id": "e1669023",
   "metadata": {},
   "outputs": [
    {
     "data": {
      "application/vnd.jupyter.widget-view+json": {
       "model_id": "947c698b10414196b015d7d6a92c7367",
       "version_major": 2,
       "version_minor": 0
      },
      "text/plain": [
       "FloatProgress(value=0.0, bar_style='info', description='Progress:', layout=Layout(height='25px', width='50%'),…"
      ]
     },
     "metadata": {},
     "output_type": "display_data"
    }
   ],
   "source": [
    "df_depurado = df_depurado.withColumn(\n",
    "    \"INFORMAL\",\n",
    "    when(\n",
    "        (col(\"p6090_bin\") == 0) &\n",
    "        (col(\"01_p5222s2_bin\") == 0) &\n",
    "        (col(\"p6040\") > 18) &\n",
    "        (col(\"50_p6240\") == 1),\n",
    "        1\n",
    "    ).otherwise(0)\n",
    ")"
   ]
  },
  {
   "cell_type": "code",
   "execution_count": 17,
   "id": "7bbcc84b",
   "metadata": {},
   "outputs": [
    {
     "data": {
      "application/vnd.jupyter.widget-view+json": {
       "model_id": "bc2d4b83fe47452da6c7c9789b23ac01",
       "version_major": 2,
       "version_minor": 0
      },
      "text/plain": [
       "FloatProgress(value=0.0, bar_style='info', description='Progress:', layout=Layout(height='25px', width='50%'),…"
      ]
     },
     "metadata": {},
     "output_type": "display_data"
    },
    {
     "name": "stdout",
     "output_type": "stream",
     "text": [
      "+--------+------+\n",
      "|INFORMAL| count|\n",
      "+--------+------+\n",
      "|       1|  6439|\n",
      "|       0|823244|\n",
      "+--------+------+"
     ]
    }
   ],
   "source": [
    "df_depurado.groupBy(\"INFORMAL\").count().show()"
   ]
  },
  {
   "cell_type": "markdown",
   "id": "76a4fedf",
   "metadata": {},
   "source": [
    "## Guardar la Base de Datos depurada en refined/"
   ]
  },
  {
   "cell_type": "code",
   "execution_count": 18,
   "id": "aefcf7c6",
   "metadata": {},
   "outputs": [
    {
     "data": {
      "application/vnd.jupyter.widget-view+json": {
       "model_id": "4dca830f7d46409aa59a277d51fd3c75",
       "version_major": 2,
       "version_minor": 0
      },
      "text/plain": [
       "FloatProgress(value=0.0, bar_style='info', description='Progress:', layout=Layout(height='25px', width='50%'),…"
      ]
     },
     "metadata": {},
     "output_type": "display_data"
    },
    {
     "name": "stdout",
     "output_type": "stream",
     "text": [
      "La GEIH depurada fue guardada exitosamente en: s3://geih-datalake-2024/refined/geih2024_depurada/"
     ]
    }
   ],
   "source": [
    "ruta_depurado = \"s3://geih-datalake-2024/refined/geih2024_depurada/\"\n",
    "\n",
    "df_depurado.write.mode(\"overwrite\").parquet(ruta_depurado)\n",
    "print(\"La GEIH depurada fue guardada exitosamente en:\", ruta_depurado)"
   ]
  },
  {
   "cell_type": "markdown",
   "id": "e0a0f98e",
   "metadata": {},
   "source": [
    "## Selección de variables y análisis de correlación"
   ]
  },
  {
   "cell_type": "code",
   "execution_count": 19,
   "id": "95fcde98",
   "metadata": {},
   "outputs": [
    {
     "data": {
      "application/vnd.jupyter.widget-view+json": {
       "model_id": "20f7001992d543bab12582696dac306b",
       "version_major": 2,
       "version_minor": 0
      },
      "text/plain": [
       "FloatProgress(value=0.0, bar_style='info', description='Progress:', layout=Layout(height='25px', width='50%'),…"
      ]
     },
     "metadata": {},
     "output_type": "display_data"
    },
    {
     "name": "stdout",
     "output_type": "stream",
     "text": [
      "Matriz de correlaci?n (Pearson):\n",
      "[[ 1.          0.07978755 -0.28760541]\n",
      " [ 0.07978755  1.         -0.15387361]\n",
      " [-0.28760541 -0.15387361  1.        ]]"
     ]
    }
   ],
   "source": [
    "from pyspark.sql.functions import col\n",
    "from pyspark.ml.feature import VectorAssembler\n",
    "from pyspark.ml.stat import Correlation\n",
    "from pyspark.sql.types import DoubleType\n",
    "\n",
    "# Variables numéricas continuas\n",
    "variables_continuas = [\"p6040\", \"p3042_ord\", \"01_p6008\"]\n",
    "\n",
    "\n",
    "df_corr = df_depurado\n",
    "for var in variables_continuas:\n",
    "    df_corr = df_corr.withColumn(var, col(var).cast(DoubleType()))\n",
    "    df_corr = df_corr.na.fill({var: 0.0})\n",
    "\n",
    "# VectorAssembler para correlación\n",
    "assembler_corr = VectorAssembler(inputCols=variables_continuas, outputCol=\"features_corr\")\n",
    "df_corr = assembler_corr.transform(df_corr).select(\"features_corr\")\n",
    "\n",
    "# Matriz de correlación\n",
    "correlation_matrix = Correlation.corr(df_corr, \"features_corr\", method=\"pearson\").head()[0].toArray()\n",
    "print(\"Matriz de correlación (Pearson):\")\n",
    "print(correlation_matrix)"
   ]
  },
  {
   "cell_type": "markdown",
   "id": "9a4d1c2b",
   "metadata": {},
   "source": [
    "## Reducción de dimensionalidad"
   ]
  },
  {
   "cell_type": "code",
   "execution_count": 20,
   "id": "e45bb503",
   "metadata": {},
   "outputs": [
    {
     "data": {
      "application/vnd.jupyter.widget-view+json": {
       "model_id": "24ea3a76590a4c23a732d2ae0fba6802",
       "version_major": 2,
       "version_minor": 0
      },
      "text/plain": [
       "FloatProgress(value=0.0, bar_style='info', description='Progress:', layout=Layout(height='25px', width='50%'),…"
      ]
     },
     "metadata": {},
     "output_type": "display_data"
    },
    {
     "name": "stdout",
     "output_type": "stream",
     "text": [
      "Varianza explicada por PCA: [0.1440231  0.09853363 0.05889138 0.05420643 0.0489519 ]"
     ]
    }
   ],
   "source": [
    "from pyspark.sql.functions import col\n",
    "from pyspark.sql.types import DoubleType\n",
    "from pyspark.ml.feature import VectorAssembler, StandardScaler, PCA\n",
    "\n",
    "columnas_modelo = [\n",
    "    \"p3271\", \"p6040\", \"p6083\", \"p6081\", \"p2057\", \"p6080\", \"p6070\", \"p6090\", \"p6100\",\n",
    "    \"p6160\", \"p6170\", \"p3042\", \"50_p6240\", \"90_p7495\", \"90_p7505\", \"90_p3367\",\n",
    "    \"94_p3374\", \"01_p5222s2\", \"01_p6008\", \"p3271_bin\", \"p6083_bin\", \"p6081_bin\",\n",
    "    \"p2057_bin\", \"p6090_bin\", \"01_p5222s2_bin\", \"90_p3367_bin\",\n",
    "    \"p6080_1\", \"p6080_2\", \"p6080_3\", \"p6080_4\", \"p6080_5\", \"p6080_6\",\n",
    "    \"p6070_1\", \"p6070_2\", \"p6070_3\", \"p6070_4\", \"p6070_5\", \"p6070_6\",\n",
    "    \"p6100_1\", \"p6100_2\", \"p6100_3\", \"p6100_4\",\n",
    "    \"50_p6240_1\", \"50_p6240_2\", \"50_p6240_3\", \"50_p6240_4\", \"50_p6240_5\", \"50_p6240_6\",\n",
    "    \"p3042_ord\"\n",
    "]\n",
    "\n",
    "# Asegurar tipo Double y nulos imputados\n",
    "for col_name in columnas_modelo:\n",
    "    df_depurado = df_depurado.withColumn(col_name, col(col_name).cast(DoubleType()))\n",
    "    df_depurado = df_depurado.na.fill({col_name: 0.0})\n",
    "\n",
    "# VectorAssembler\n",
    "assembler = VectorAssembler(inputCols=columnas_modelo, outputCol=\"features\")\n",
    "df_vect = assembler.transform(df_depurado)\n",
    "\n",
    "# Escalamiento\n",
    "scaler = StandardScaler(inputCol=\"features\", outputCol=\"scaled_features\", withMean=True, withStd=True)\n",
    "scaler_model = scaler.fit(df_vect)\n",
    "df_scaled = scaler_model.transform(df_vect)\n",
    "\n",
    "# PCA\n",
    "pca = PCA(k=5, inputCol=\"scaled_features\", outputCol=\"features_pca\")\n",
    "pca_model = pca.fit(df_scaled)\n",
    "df_pca = pca_model.transform(df_scaled)\n",
    "\n",
    "print(\"Varianza explicada por PCA:\", pca_model.explainedVariance.toArray())"
   ]
  },
  {
   "cell_type": "code",
   "execution_count": 21,
   "id": "bf471d40",
   "metadata": {},
   "outputs": [
    {
     "data": {
      "application/vnd.jupyter.widget-view+json": {
       "model_id": "52a976cf800246458a0d83de2ba36b78",
       "version_major": 2,
       "version_minor": 0
      },
      "text/plain": [
       "FloatProgress(value=0.0, bar_style='info', description='Progress:', layout=Layout(height='25px', width='50%'),…"
      ]
     },
     "metadata": {},
     "output_type": "display_data"
    },
    {
     "name": "stdout",
     "output_type": "stream",
     "text": [
      "Datos con PCA guardados exitosamente en: s3://geih-datalake-2024/refined/pca/"
     ]
    }
   ],
   "source": [
    "# Ruta de guardado en S3\n",
    "ruta_pca = \"s3://geih-datalake-2024/refined/pca/\"\n",
    "\n",
    "# Guardar el DataFrame\n",
    "df_pca.write.mode(\"overwrite\").parquet(ruta_pca)\n",
    "\n",
    "print(\"Datos con PCA guardados exitosamente en:\", ruta_pca)"
   ]
  },
  {
   "cell_type": "markdown",
   "id": "dc7e9833",
   "metadata": {},
   "source": [
    "## Modelado Regresión Logística"
   ]
  },
  {
   "cell_type": "code",
   "execution_count": 22,
   "id": "50cd586f",
   "metadata": {},
   "outputs": [
    {
     "data": {
      "application/vnd.jupyter.widget-view+json": {
       "model_id": "409b8b9081a6435dbc70b69de02be9e0",
       "version_major": 2,
       "version_minor": 0
      },
      "text/plain": [
       "FloatProgress(value=0.0, bar_style='info', description='Progress:', layout=Layout(height='25px', width='50%'),…"
      ]
     },
     "metadata": {},
     "output_type": "display_data"
    },
    {
     "name": "stdout",
     "output_type": "stream",
     "text": [
      "AUC - Regresi?n log?stica: 0.9999470283239864"
     ]
    }
   ],
   "source": [
    "from pyspark.ml.classification import LogisticRegression\n",
    "from pyspark.ml.evaluation import BinaryClassificationEvaluator\n",
    "\n",
    "# Dividir los datos en entrenamiento y prueba\n",
    "df_train, df_test = df_scaled.randomSplit([0.8, 0.2], seed=42)\n",
    "\n",
    "lr = LogisticRegression(featuresCol=\"scaled_features\", labelCol=\"INFORMAL\", maxIter=10)\n",
    "modelo_lr = lr.fit(df_train)\n",
    "predicciones_lr = modelo_lr.transform(df_test)\n",
    "\n",
    "evaluator = BinaryClassificationEvaluator(labelCol=\"INFORMAL\", rawPredictionCol=\"rawPrediction\", metricName=\"areaUnderROC\")\n",
    "auc_lr = evaluator.evaluate(predicciones_lr)\n",
    "print(\"AUC - Regresión logística:\", auc_lr)"
   ]
  },
  {
   "cell_type": "markdown",
   "id": "098d9e85",
   "metadata": {},
   "source": [
    "## Undersampling y rebalanceo del modelo"
   ]
  },
  {
   "cell_type": "code",
   "execution_count": 23,
   "id": "63f53f79",
   "metadata": {},
   "outputs": [
    {
     "data": {
      "application/vnd.jupyter.widget-view+json": {
       "model_id": "165370aa4fcd4b1a80ed44ff4a7c4ee0",
       "version_major": 2,
       "version_minor": 0
      },
      "text/plain": [
       "FloatProgress(value=0.0, bar_style='info', description='Progress:', layout=Layout(height='25px', width='50%'),…"
      ]
     },
     "metadata": {},
     "output_type": "display_data"
    }
   ],
   "source": [
    "df_minoria = df_scaled.filter(col(\"INFORMAL\") == 1)\n",
    "df_mayoria = df_scaled.filter(col(\"INFORMAL\") == 0)\n",
    "\n",
    "# Conteo clase minoritaria\n",
    "count_minoria = df_minoria.count()\n",
    "\n",
    "# Undersample clase mayoritaria al tamaño de la clase minoritaria\n",
    "df_mayoria_sampled = df_mayoria.sample(fraction=count_minoria / df_mayoria.count(), seed=42)\n",
    "\n",
    "# Unir ambos\n",
    "df_balanceado = df_minoria.union(df_mayoria_sampled)\n",
    "\n",
    "# Repartir en entrenamiento y prueba\n",
    "train_data, test_data = df_balanceado.randomSplit([0.8, 0.2], seed=42)"
   ]
  },
  {
   "cell_type": "code",
   "execution_count": 24,
   "id": "4dfee727",
   "metadata": {},
   "outputs": [
    {
     "data": {
      "application/vnd.jupyter.widget-view+json": {
       "model_id": "3edda37853f14bdca005e3f8fa1bb7f5",
       "version_major": 2,
       "version_minor": 0
      },
      "text/plain": [
       "FloatProgress(value=0.0, bar_style='info', description='Progress:', layout=Layout(height='25px', width='50%'),…"
      ]
     },
     "metadata": {},
     "output_type": "display_data"
    }
   ],
   "source": [
    "from pyspark.ml.classification import LogisticRegression\n",
    "\n",
    "lr = LogisticRegression(featuresCol=\"scaled_features\", labelCol=\"INFORMAL\", maxIter=10)\n",
    "modelo_lr = lr.fit(train_data)\n",
    "predicciones_lr = modelo_lr.transform(test_data)"
   ]
  },
  {
   "cell_type": "code",
   "execution_count": 25,
   "id": "32067c86",
   "metadata": {},
   "outputs": [
    {
     "data": {
      "application/vnd.jupyter.widget-view+json": {
       "model_id": "16823dd59b344bdfadb69530c6e9a889",
       "version_major": 2,
       "version_minor": 0
      },
      "text/plain": [
       "FloatProgress(value=0.0, bar_style='info', description='Progress:', layout=Layout(height='25px', width='50%'),…"
      ]
     },
     "metadata": {},
     "output_type": "display_data"
    },
    {
     "name": "stdout",
     "output_type": "stream",
     "text": [
      "AUC: 0.9999062057566851\n",
      "F1-score: 0.9976125357199083\n",
      "Precisi?n (clase 1): 1.0\n",
      "Recall (clase 1): 0.995334370139969"
     ]
    }
   ],
   "source": [
    "from pyspark.ml.evaluation import BinaryClassificationEvaluator, MulticlassClassificationEvaluator\n",
    "\n",
    "# AUC\n",
    "evaluator_auc = BinaryClassificationEvaluator(labelCol=\"INFORMAL\", rawPredictionCol=\"rawPrediction\", metricName=\"areaUnderROC\")\n",
    "auc = evaluator_auc.evaluate(predicciones_lr)\n",
    "\n",
    "# F1-score\n",
    "evaluator_f1 = MulticlassClassificationEvaluator(labelCol=\"INFORMAL\", predictionCol=\"prediction\", metricName=\"f1\")\n",
    "f1 = evaluator_f1.evaluate(predicciones_lr)\n",
    "\n",
    "# Precisión\n",
    "precision = MulticlassClassificationEvaluator(labelCol=\"INFORMAL\", predictionCol=\"prediction\", metricName=\"precisionByLabel\").evaluate(predicciones_lr)\n",
    "\n",
    "# Recall\n",
    "recall = MulticlassClassificationEvaluator(labelCol=\"INFORMAL\", predictionCol=\"prediction\", metricName=\"recallByLabel\").evaluate(predicciones_lr)\n",
    "\n",
    "print(f\"AUC: {auc}\")\n",
    "print(f\"F1-score: {f1}\")\n",
    "print(f\"Precisión (clase 1): {precision}\")\n",
    "print(f\"Recall (clase 1): {recall}\")"
   ]
  },
  {
   "cell_type": "code",
   "execution_count": 26,
   "id": "9ea7efe6",
   "metadata": {},
   "outputs": [
    {
     "data": {
      "application/vnd.jupyter.widget-view+json": {
       "model_id": "9d25644d57384f0da66ec48d6478c6eb",
       "version_major": 2,
       "version_minor": 0
      },
      "text/plain": [
       "FloatProgress(value=0.0, bar_style='info', description='Progress:', layout=Layout(height='25px', width='50%'),…"
      ]
     },
     "metadata": {},
     "output_type": "display_data"
    },
    {
     "name": "stdout",
     "output_type": "stream",
     "text": [
      "+--------+----------+-----+\n",
      "|INFORMAL|prediction|count|\n",
      "+--------+----------+-----+\n",
      "|       0|       0.0| 1280|\n",
      "|       0|       1.0|    6|\n",
      "|       1|       1.0| 1227|\n",
      "+--------+----------+-----+"
     ]
    }
   ],
   "source": [
    "# Matriz de confusión\n",
    "predicciones_lr.groupBy(\"INFORMAL\", \"prediction\").count().orderBy(\"INFORMAL\", \"prediction\").show()"
   ]
  },
  {
   "cell_type": "markdown",
   "id": "800680cc",
   "metadata": {},
   "source": [
    "## Comparación con Random Forest"
   ]
  },
  {
   "cell_type": "code",
   "execution_count": 27,
   "id": "8c129a46",
   "metadata": {},
   "outputs": [
    {
     "data": {
      "application/vnd.jupyter.widget-view+json": {
       "model_id": "b912f036c06a4a28b65e0a5c78a8531a",
       "version_major": 2,
       "version_minor": 0
      },
      "text/plain": [
       "FloatProgress(value=0.0, bar_style='info', description='Progress:', layout=Layout(height='25px', width='50%'),…"
      ]
     },
     "metadata": {},
     "output_type": "display_data"
    },
    {
     "name": "stdout",
     "output_type": "stream",
     "text": [
      "AUC - Random Forest: 0.9999177418285822\n",
      "F1-score: 0.9985323733620542\n",
      "Precisi?n (clase 1): 1.0\n",
      "Recall (clase 1): 0.9970800676194868\n",
      "+--------+----------+-----+\n",
      "|INFORMAL|prediction|count|\n",
      "+--------+----------+-----+\n",
      "|       1|       1.0| 6439|\n",
      "|       0|       0.0| 6488|\n",
      "|       0|       1.0|   19|\n",
      "+--------+----------+-----+"
     ]
    }
   ],
   "source": [
    "from pyspark.ml.classification import RandomForestClassifier\n",
    "from pyspark.ml.evaluation import BinaryClassificationEvaluator, MulticlassClassificationEvaluator\n",
    "from pyspark.sql.functions import col\n",
    "\n",
    "# Entrenamiento del modelo Random Forest\n",
    "rf = RandomForestClassifier(featuresCol=\"scaled_features\", labelCol=\"INFORMAL\", numTrees=100, maxDepth=5)\n",
    "modelo_rf = rf.fit(df_balanceado)\n",
    "predicciones_rf = modelo_rf.transform(df_balanceado)\n",
    "\n",
    "# Evaluador AUC\n",
    "evaluator_auc = BinaryClassificationEvaluator(labelCol=\"INFORMAL\", rawPredictionCol=\"rawPrediction\", metricName=\"areaUnderROC\")\n",
    "auc_rf = evaluator_auc.evaluate(predicciones_rf)\n",
    "print(\"AUC - Random Forest:\", auc_rf)\n",
    "\n",
    "# Evaluadores adicionales\n",
    "evaluator_f1 = MulticlassClassificationEvaluator(labelCol=\"INFORMAL\", predictionCol=\"prediction\", metricName=\"f1\")\n",
    "evaluator_precision = MulticlassClassificationEvaluator(labelCol=\"INFORMAL\", predictionCol=\"prediction\", metricName=\"precisionByLabel\")\n",
    "evaluator_recall = MulticlassClassificationEvaluator(labelCol=\"INFORMAL\", predictionCol=\"prediction\", metricName=\"recallByLabel\")\n",
    "\n",
    "f1_rf = evaluator_f1.evaluate(predicciones_rf)\n",
    "precision_rf = evaluator_precision.evaluate(predicciones_rf)\n",
    "recall_rf = evaluator_recall.evaluate(predicciones_rf)\n",
    "\n",
    "print(\"F1-score:\", f1_rf)\n",
    "print(\"Precisión (clase 1):\", precision_rf)\n",
    "print(\"Recall (clase 1):\", recall_rf)\n",
    "\n",
    "# Matriz de confusión\n",
    "matriz_confusion_rf = predicciones_rf.groupBy(\"INFORMAL\", \"prediction\").count()\n",
    "matriz_confusion_rf.show()"
   ]
  },
  {
   "cell_type": "markdown",
   "id": "0943585c",
   "metadata": {},
   "source": [
    "## Clustering con KMeans"
   ]
  },
  {
   "cell_type": "code",
   "execution_count": 28,
   "id": "636e32ef",
   "metadata": {},
   "outputs": [
    {
     "data": {
      "application/vnd.jupyter.widget-view+json": {
       "model_id": "568184bd179b473a800e2e822af6cbe2",
       "version_major": 2,
       "version_minor": 0
      },
      "text/plain": [
       "FloatProgress(value=0.0, bar_style='info', description='Progress:', layout=Layout(height='25px', width='50%'),…"
      ]
     },
     "metadata": {},
     "output_type": "display_data"
    },
    {
     "name": "stdout",
     "output_type": "stream",
     "text": [
      "k=2, Silhouette Score=0.42531747398510267\n",
      "k=3, Silhouette Score=0.4240021988282736\n",
      "k=4, Silhouette Score=0.3873520444511809\n",
      "k=5, Silhouette Score=0.3929674851946392"
     ]
    }
   ],
   "source": [
    "from pyspark.ml.clustering import KMeans\n",
    "from pyspark.ml.evaluation import ClusteringEvaluator\n",
    "\n",
    "scores = []\n",
    "\n",
    "for k in range(2, 6):  # Puedes ajustar este rango\n",
    "    kmeans = KMeans(featuresCol=\"features_pca\", predictionCol=\"cluster\", k=k, seed=1)\n",
    "    model = kmeans.fit(df_pca)\n",
    "    predictions = model.transform(df_pca)\n",
    "\n",
    "    evaluator = ClusteringEvaluator(featuresCol=\"features_pca\", predictionCol=\"cluster\", metricName=\"silhouette\")\n",
    "    score = evaluator.evaluate(predictions)\n",
    "    scores.append((k, score))\n",
    "    print(f\"k={k}, Silhouette Score={score}\")"
   ]
  },
  {
   "cell_type": "code",
   "execution_count": 29,
   "id": "8635e438",
   "metadata": {},
   "outputs": [
    {
     "data": {
      "application/vnd.jupyter.widget-view+json": {
       "model_id": "e0281bc4fe534b6ba37dec512fb9301a",
       "version_major": 2,
       "version_minor": 0
      },
      "text/plain": [
       "FloatProgress(value=0.0, bar_style='info', description='Progress:', layout=Layout(height='25px', width='50%'),…"
      ]
     },
     "metadata": {},
     "output_type": "display_data"
    },
    {
     "name": "stdout",
     "output_type": "stream",
     "text": [
      "Silhouette Score: 0.42531747398510267\n",
      "Centroides del modelo:\n",
      "Cluster 0: [-1.96418185  0.21357076  0.30793481  0.04932384 -0.17895988]\n",
      "Cluster 1: [ 2.68557931 -0.29201025 -0.42103197 -0.06743932  0.24468761]"
     ]
    }
   ],
   "source": [
    "from pyspark.ml.clustering import KMeans\n",
    "from pyspark.ml.evaluation import ClusteringEvaluator\n",
    "\n",
    "# Entrenamiento del modelo KMeans\n",
    "kmeans = KMeans(featuresCol=\"features_pca\", predictionCol=\"cluster\", k=2, seed=1)\n",
    "modelo_kmeans = kmeans.fit(df_pca)\n",
    "\n",
    "# Predicción de clusters\n",
    "df_clusters = modelo_kmeans.transform(df_pca)\n",
    "\n",
    "# Evaluar clustering con Silhouette score\n",
    "evaluator = ClusteringEvaluator(featuresCol=\"features_pca\", predictionCol=\"cluster\", metricName=\"silhouette\", distanceMeasure=\"squaredEuclidean\")\n",
    "silhouette = evaluator.evaluate(df_clusters)\n",
    "print(\"Silhouette Score:\", silhouette)\n",
    "\n",
    "# Ver los centroides\n",
    "centros = modelo_kmeans.clusterCenters()\n",
    "print(\"Centroides del modelo:\")\n",
    "for idx, centroide in enumerate(centros):\n",
    "    print(f\"Cluster {idx}: {centroide}\")\n",
    "\n",
    "# 5. Exportar resultado con asignación de cluster a S3 (ajusta ruta si es necesario)\n",
    "df_clusters.select(\"directorio\", \"secuencia_p\", \"orden\", \"cluster\") \\\n",
    "    .write.mode(\"overwrite\").option(\"header\", \"true\") \\\n",
    "    .csv(\"s3://geih-datalake-2024/refined/output/kmeans_clusters\")"
   ]
  },
  {
   "cell_type": "code",
   "execution_count": 30,
   "id": "c81cae15",
   "metadata": {},
   "outputs": [
    {
     "data": {
      "application/vnd.jupyter.widget-view+json": {
       "model_id": "0ed345a628544cf1bf792ac8cf22f2d6",
       "version_major": 2,
       "version_minor": 0
      },
      "text/plain": [
       "FloatProgress(value=0.0, bar_style='info', description='Progress:', layout=Layout(height='25px', width='50%'),…"
      ]
     },
     "metadata": {},
     "output_type": "display_data"
    },
    {
     "name": "stdout",
     "output_type": "stream",
     "text": [
      "Silhouette Score: 0.42531747398510267\n",
      "+-------+--------+------+\n",
      "|cluster|INFORMAL| count|\n",
      "+-------+--------+------+\n",
      "|      0|       0|474274|\n",
      "|      0|       1|  4932|\n",
      "|      1|       0|348970|\n",
      "|      1|       1|  1507|\n",
      "+-------+--------+------+"
     ]
    }
   ],
   "source": [
    "from pyspark.ml.clustering import KMeans\n",
    "from pyspark.ml.evaluation import ClusteringEvaluator\n",
    "\n",
    "kmeans = KMeans(featuresCol=\"features_pca\", predictionCol=\"cluster\", k=2, seed=1)\n",
    "modelo_kmeans = kmeans.fit(df_pca)\n",
    "df_clusters = modelo_kmeans.transform(df_pca)\n",
    "\n",
    "silhouette = ClusteringEvaluator(featuresCol=\"features_pca\", predictionCol=\"cluster\", metricName=\"silhouette\").evaluate(df_clusters)\n",
    "print(\"Silhouette Score:\", silhouette)\n",
    "df_clusters.groupBy(\"cluster\", \"INFORMAL\").count().orderBy(\"cluster\", \"INFORMAL\").show()"
   ]
  },
  {
   "cell_type": "markdown",
   "id": "65d373d6",
   "metadata": {},
   "source": [
    "## Guardar resultados en S3"
   ]
  },
  {
   "cell_type": "code",
   "execution_count": 34,
   "id": "83b65138",
   "metadata": {},
   "outputs": [
    {
     "data": {
      "application/vnd.jupyter.widget-view+json": {
       "model_id": "1a8e4221716843e2bde3a1db921a3d85",
       "version_major": 2,
       "version_minor": 0
      },
      "text/plain": [
       "FloatProgress(value=0.0, bar_style='info', description='Progress:', layout=Layout(height='25px', width='50%'),…"
      ]
     },
     "metadata": {},
     "output_type": "display_data"
    },
    {
     "name": "stdout",
     "output_type": "stream",
     "text": [
      "Predicciones LR guardadas en: s3://geih-datalake-2024/refined/geih2024_depurada/modelos/predicciones_lr/\n",
      "Predicciones RF guardadas en: s3://geih-datalake-2024/refined/geih2024_depurada/modelos/predicciones_rf/\n",
      "Resultados clustering guardados en: s3://geih-datalake-2024/refined/geih2024_depurada/modelos/clustering/\n",
      "Matriz de confusi?n RF guardada en: s3://geih-datalake-2024/refined/geih2024_depurada/modelos/matriz_confusion_rf/"
     ]
    }
   ],
   "source": [
    "ruta_lr = \"s3://geih-datalake-2024/refined/geih2024_depurada/modelos/predicciones_lr/\"\n",
    "predicciones_lr.write.mode(\"overwrite\").parquet(ruta_lr)\n",
    "print(\"Predicciones LR guardadas en:\", ruta_lr)\n",
    "\n",
    "ruta_rf = \"s3://geih-datalake-2024/refined/geih2024_depurada/modelos/predicciones_rf/\"\n",
    "predicciones_rf.write.mode(\"overwrite\").parquet(ruta_rf)\n",
    "print(\"Predicciones RF guardadas en:\", ruta_rf)\n",
    "\n",
    "ruta_cluster = \"s3://geih-datalake-2024/refined/geih2024_depurada/modelos/clustering/\"\n",
    "df_clusters.write.mode(\"overwrite\").parquet(ruta_cluster)\n",
    "print(\"Resultados clustering guardados en:\", ruta_cluster)\n",
    "\n",
    "ruta_confusion = \"s3://geih-datalake-2024/refined/geih2024_depurada/modelos/matriz_confusion_rf/\"\n",
    "matriz_confusion_rf.write.mode(\"overwrite\").parquet(ruta_confusion)\n",
    "print(\"Matriz de confusión RF guardada en:\", ruta_confusion)"
   ]
  },
  {
   "cell_type": "code",
   "execution_count": null,
   "id": "b1b1b274",
   "metadata": {},
   "outputs": [],
   "source": []
  }
 ],
 "metadata": {
  "kernelspec": {
   "display_name": "PySpark",
   "language": "python",
   "name": "pysparkkernel"
  },
  "language_info": {
   "codemirror_mode": {
    "name": "python",
    "version": 3
   },
   "file_extension": ".py",
   "mimetype": "text/x-python",
   "name": "pyspark",
   "pygments_lexer": "python3"
  }
 },
 "nbformat": 4,
 "nbformat_minor": 5
}
